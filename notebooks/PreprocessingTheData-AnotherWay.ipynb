{
 "cells": [
  {
   "cell_type": "markdown",
   "source": [
    "# Preprocessing the Data - The Other Way\n",
    "\n",
    "In this intriguing assignment, the goal was to exchange our swords - or rather, our feature extraction methods - with a fellow student. This twist meant that I delved into the techniques my peer employed in their dataset, and they ventured into the methods I used in my previous assignment (for reference, see [PreprocessingTheData.ipynb](PreprocessingTheData.ipynb)). It's a fantastic opportunity to step outside our comfort zones and see how our data dances with different partners.\n",
    "\n",
    "## Feature Extraction Methods\n",
    "\n",
    "Feature extraction is like finding the magic keys that unlock the most information or the most meaningful signals from our dataset. In this section, I'm going to embark on a journey with the following magical tools:\n",
    "\n",
    "### 1. Autoencoder\n",
    "\n",
    "Autoencoders are neural networks designed to learn an efficient representation (encoding) for data, typically for the purpose of dimensionality reduction. They work by compressing the input into a lower-dimensional code and then reconstructing the output from this representation. The beauty of autoencoders lies in their ability to capture the most salient features of the data automatically.\n",
    "\n",
    "An autoencoder consists of two main parts: the encoder, which compresses the input data, and the decoder, which reconstructs the data from the compressed form. The goal is to minimize the difference between the original input and the reconstructed output, thus forcing the autoencoder to learn a compact representation of the data.\n",
    "\n",
    "### 2. Mutual Information\n",
    "\n",
    "Mutual information is a measure from information theory, describing the amount of information obtained about one random variable through observing another random variable. In feature selection, we use it to quantify the \"amount of information\" a feature gives us about the outcome. It's a powerful way to identify features that contribute most to predicting the target variable, enabling us to focus on relevant data and potentially improve model performance.\n",
    "\n",
    "### 3. PCA (Principal Component Analysis)\n",
    "\n",
    "PCA is a statistical technique that converts high-dimensional data into a lower-dimensional form (components) while retaining as much of the variance in the dataset as possible. It's like finding the best angles to view a gemstone, revealing its structure in fewer dimensions. PCA helps in reducing the dimensionality of the data, improving computational efficiency, and sometimes even improving model performance by eliminating noise and redundant features.\n",
    "\n",
    "### 4. Random Forest\n",
    "\n",
    "While primarily a machine learning model, Random Forest can also be leveraged for feature extraction. By training a Random Forest model, we can inspect the feature importances attributed by the model, giving us insights into which features it finds most predictive. This method is particularly useful for understanding feature importance in non-linear and complex datasets, helping to highlight which features are most influential in predicting the outcome.\n",
    "\n",
    "Each of these methods brings a unique perspective on how to unlock the secrets within our data. By experimenting with and understanding these techniques, we gain valuable skills and insights that can be applied across a wide range of data science challenges."
   ],
   "metadata": {
    "collapsed": false
   },
   "id": "f04dde3a743e8307"
  },
  {
   "cell_type": "markdown",
   "source": [
    "# Initial data preprocessing\n",
    "Similarly like we had in the previous notebook we would load the EP1.01.txt data as it represents in the best way the rest of the data. Also we would process the \"data\" colum from string (With \",\" delimiter) to an array of floats that represent the signals."
   ],
   "metadata": {
    "collapsed": false
   },
   "id": "efcf385ad8910294"
  },
  {
   "cell_type": "code",
   "execution_count": 1,
   "id": "initial_id",
   "metadata": {
    "collapsed": true,
    "ExecuteTime": {
     "end_time": "2024-03-25T17:17:06.934502Z",
     "start_time": "2024-03-25T17:17:06.932421Z"
    }
   },
   "outputs": [],
   "source": [
    "import pandas as pd\n",
    "import matplotlib.pyplot as plt\n",
    "from pathlib import Path"
   ]
  },
  {
   "cell_type": "code",
   "outputs": [],
   "source": [
    "data_path = Path('../data')\n",
    "file_path = data_path / 'EP1.01.txt'\n",
    "\n",
    "columns = ['id', 'event_id', 'device', 'channel', 'code', 'size', 'data']\n",
    "data = pd.read_csv(file_path, delimiter='\\t', header=None, names=columns)"
   ],
   "metadata": {
    "collapsed": false,
    "ExecuteTime": {
     "end_time": "2024-03-25T17:17:28.012773Z",
     "start_time": "2024-03-25T17:17:06.999813Z"
    }
   },
   "id": "fe67f43365b98d99",
   "execution_count": 2
  },
  {
   "cell_type": "code",
   "outputs": [
    {
     "data": {
      "text/plain": "      id  event_id device channel  code  size  \\\n0  67635     67635     EP     AF3     6   260   \n1  67636     67635     EP      F7     6   260   \n2  67637     67635     EP      F3     6   260   \n3  67638     67635     EP     FC5     6   260   \n4  67639     67635     EP      T7     6   260   \n\n                                                data  \n0  4395.384615,4382.564102,4377.435897,4387.17948...  \n1  4489.230769,4475.384615,4474.358974,4486.66666...  \n2  4538.461538,4528.717948,4524.615384,4526.15384...  \n3  4207.692307,4205.641025,4200.512820,4194.35897...  \n4  4497.948717,4498.461538,4494.871794,4497.94871...  ",
      "text/html": "<div>\n<style scoped>\n    .dataframe tbody tr th:only-of-type {\n        vertical-align: middle;\n    }\n\n    .dataframe tbody tr th {\n        vertical-align: top;\n    }\n\n    .dataframe thead th {\n        text-align: right;\n    }\n</style>\n<table border=\"1\" class=\"dataframe\">\n  <thead>\n    <tr style=\"text-align: right;\">\n      <th></th>\n      <th>id</th>\n      <th>event_id</th>\n      <th>device</th>\n      <th>channel</th>\n      <th>code</th>\n      <th>size</th>\n      <th>data</th>\n    </tr>\n  </thead>\n  <tbody>\n    <tr>\n      <th>0</th>\n      <td>67635</td>\n      <td>67635</td>\n      <td>EP</td>\n      <td>AF3</td>\n      <td>6</td>\n      <td>260</td>\n      <td>4395.384615,4382.564102,4377.435897,4387.17948...</td>\n    </tr>\n    <tr>\n      <th>1</th>\n      <td>67636</td>\n      <td>67635</td>\n      <td>EP</td>\n      <td>F7</td>\n      <td>6</td>\n      <td>260</td>\n      <td>4489.230769,4475.384615,4474.358974,4486.66666...</td>\n    </tr>\n    <tr>\n      <th>2</th>\n      <td>67637</td>\n      <td>67635</td>\n      <td>EP</td>\n      <td>F3</td>\n      <td>6</td>\n      <td>260</td>\n      <td>4538.461538,4528.717948,4524.615384,4526.15384...</td>\n    </tr>\n    <tr>\n      <th>3</th>\n      <td>67638</td>\n      <td>67635</td>\n      <td>EP</td>\n      <td>FC5</td>\n      <td>6</td>\n      <td>260</td>\n      <td>4207.692307,4205.641025,4200.512820,4194.35897...</td>\n    </tr>\n    <tr>\n      <th>4</th>\n      <td>67639</td>\n      <td>67635</td>\n      <td>EP</td>\n      <td>T7</td>\n      <td>6</td>\n      <td>260</td>\n      <td>4497.948717,4498.461538,4494.871794,4497.94871...</td>\n    </tr>\n  </tbody>\n</table>\n</div>"
     },
     "execution_count": 3,
     "metadata": {},
     "output_type": "execute_result"
    }
   ],
   "source": [
    "data.head()"
   ],
   "metadata": {
    "collapsed": false,
    "ExecuteTime": {
     "end_time": "2024-03-25T17:17:28.021174Z",
     "start_time": "2024-03-25T17:17:28.014098Z"
    }
   },
   "id": "d6672117e8425e76",
   "execution_count": 3
  },
  {
   "cell_type": "code",
   "outputs": [],
   "source": [
    "def parse_data(data: str) -> list:\n",
    "    return list(map(float, data.split(',')))"
   ],
   "metadata": {
    "collapsed": false,
    "ExecuteTime": {
     "end_time": "2024-03-25T17:17:28.023986Z",
     "start_time": "2024-03-25T17:17:28.021972Z"
    }
   },
   "id": "5ea351f5465310f",
   "execution_count": 4
  },
  {
   "cell_type": "code",
   "outputs": [],
   "source": [
    "data.loc[:, 'data'] = data['data'].apply(parse_data)"
   ],
   "metadata": {
    "collapsed": false,
    "ExecuteTime": {
     "end_time": "2024-03-25T17:18:03.118214Z",
     "start_time": "2024-03-25T17:17:28.025966Z"
    }
   },
   "id": "56d6d44b9dfcc4c7",
   "execution_count": 5
  },
  {
   "cell_type": "code",
   "outputs": [
    {
     "data": {
      "text/plain": "      id  event_id device channel  code  size  \\\n0  67635     67635     EP     AF3     6   260   \n1  67636     67635     EP      F7     6   260   \n2  67637     67635     EP      F3     6   260   \n3  67638     67635     EP     FC5     6   260   \n4  67639     67635     EP      T7     6   260   \n\n                                                data  \n0  [4395.384615, 4382.564102, 4377.435897, 4387.1...  \n1  [4489.230769, 4475.384615, 4474.358974, 4486.6...  \n2  [4538.461538, 4528.717948, 4524.615384, 4526.1...  \n3  [4207.692307, 4205.641025, 4200.51282, 4194.35...  \n4  [4497.948717, 4498.461538, 4494.871794, 4497.9...  ",
      "text/html": "<div>\n<style scoped>\n    .dataframe tbody tr th:only-of-type {\n        vertical-align: middle;\n    }\n\n    .dataframe tbody tr th {\n        vertical-align: top;\n    }\n\n    .dataframe thead th {\n        text-align: right;\n    }\n</style>\n<table border=\"1\" class=\"dataframe\">\n  <thead>\n    <tr style=\"text-align: right;\">\n      <th></th>\n      <th>id</th>\n      <th>event_id</th>\n      <th>device</th>\n      <th>channel</th>\n      <th>code</th>\n      <th>size</th>\n      <th>data</th>\n    </tr>\n  </thead>\n  <tbody>\n    <tr>\n      <th>0</th>\n      <td>67635</td>\n      <td>67635</td>\n      <td>EP</td>\n      <td>AF3</td>\n      <td>6</td>\n      <td>260</td>\n      <td>[4395.384615, 4382.564102, 4377.435897, 4387.1...</td>\n    </tr>\n    <tr>\n      <th>1</th>\n      <td>67636</td>\n      <td>67635</td>\n      <td>EP</td>\n      <td>F7</td>\n      <td>6</td>\n      <td>260</td>\n      <td>[4489.230769, 4475.384615, 4474.358974, 4486.6...</td>\n    </tr>\n    <tr>\n      <th>2</th>\n      <td>67637</td>\n      <td>67635</td>\n      <td>EP</td>\n      <td>F3</td>\n      <td>6</td>\n      <td>260</td>\n      <td>[4538.461538, 4528.717948, 4524.615384, 4526.1...</td>\n    </tr>\n    <tr>\n      <th>3</th>\n      <td>67638</td>\n      <td>67635</td>\n      <td>EP</td>\n      <td>FC5</td>\n      <td>6</td>\n      <td>260</td>\n      <td>[4207.692307, 4205.641025, 4200.51282, 4194.35...</td>\n    </tr>\n    <tr>\n      <th>4</th>\n      <td>67639</td>\n      <td>67635</td>\n      <td>EP</td>\n      <td>T7</td>\n      <td>6</td>\n      <td>260</td>\n      <td>[4497.948717, 4498.461538, 4494.871794, 4497.9...</td>\n    </tr>\n  </tbody>\n</table>\n</div>"
     },
     "execution_count": 6,
     "metadata": {},
     "output_type": "execute_result"
    }
   ],
   "source": [
    "data.head()"
   ],
   "metadata": {
    "collapsed": false,
    "ExecuteTime": {
     "end_time": "2024-03-25T17:18:03.127371Z",
     "start_time": "2024-03-25T17:18:03.119476Z"
    }
   },
   "id": "c9935037762485aa",
   "execution_count": 6
  },
  {
   "cell_type": "markdown",
   "source": [
    "# 1. Autoencoder\n",
    "We'll break down the process into the following steps\n",
    "1. Preprocess the data - Normalize the EEG signal to have zero mean and unit variance\n",
    "2. Build the autoencoder - Define Autoencoder architecture\n",
    "3. Train the Autoencoder\n",
    "4. Feature extraction"
   ],
   "metadata": {
    "collapsed": false
   },
   "id": "ce1248c78adcd796"
  },
  {
   "cell_type": "markdown",
   "source": [
    "## 1. Preprocessing the Data "
   ],
   "metadata": {
    "collapsed": false
   },
   "id": "6f8c2d1ae68e5cbf"
  },
  {
   "cell_type": "code",
   "outputs": [],
   "source": [
    "from sklearn.preprocessing import MinMaxScaler\n",
    "import numpy as np\n",
    "scaler = MinMaxScaler()"
   ],
   "metadata": {
    "collapsed": false,
    "ExecuteTime": {
     "end_time": "2024-03-25T17:18:03.213640Z",
     "start_time": "2024-03-25T17:18:03.128915Z"
    }
   },
   "id": "b755957058de5e1f",
   "execution_count": 7
  },
  {
   "cell_type": "code",
   "outputs": [],
   "source": [
    "data.loc[:, 'normalized_data'] = data['data'].apply(lambda x: scaler.fit_transform(np.array(x).reshape(-1, 1)).flatten())"
   ],
   "metadata": {
    "collapsed": false,
    "ExecuteTime": {
     "end_time": "2024-03-25T17:19:16.367847Z",
     "start_time": "2024-03-25T17:18:03.215236Z"
    }
   },
   "id": "857f47f8885b18cc",
   "execution_count": 8
  },
  {
   "cell_type": "code",
   "outputs": [
    {
     "data": {
      "text/plain": "      id  event_id device channel  code  size  \\\n0  67635     67635     EP     AF3     6   260   \n1  67636     67635     EP      F7     6   260   \n2  67637     67635     EP      F3     6   260   \n3  67638     67635     EP     FC5     6   260   \n4  67639     67635     EP      T7     6   260   \n\n                                                data  \\\n0  [4395.384615, 4382.564102, 4377.435897, 4387.1...   \n1  [4489.230769, 4475.384615, 4474.358974, 4486.6...   \n2  [4538.461538, 4528.717948, 4524.615384, 4526.1...   \n3  [4207.692307, 4205.641025, 4200.51282, 4194.35...   \n4  [4497.948717, 4498.461538, 4494.871794, 4497.9...   \n\n                                     normalized_data  \n0  [0.8441558461291976, 0.5194805129026889, 0.389...  \n1  [0.4296875010711574, 0.2187499966674693, 0.203...  \n2  [0.945205480183887, 0.684931497701271, 0.57534...  \n3  [0.3440860178980216, 0.3010752656607565, 0.193...  \n4  [0.43749997714844824, 0.44999998903124094, 0.3...  ",
      "text/html": "<div>\n<style scoped>\n    .dataframe tbody tr th:only-of-type {\n        vertical-align: middle;\n    }\n\n    .dataframe tbody tr th {\n        vertical-align: top;\n    }\n\n    .dataframe thead th {\n        text-align: right;\n    }\n</style>\n<table border=\"1\" class=\"dataframe\">\n  <thead>\n    <tr style=\"text-align: right;\">\n      <th></th>\n      <th>id</th>\n      <th>event_id</th>\n      <th>device</th>\n      <th>channel</th>\n      <th>code</th>\n      <th>size</th>\n      <th>data</th>\n      <th>normalized_data</th>\n    </tr>\n  </thead>\n  <tbody>\n    <tr>\n      <th>0</th>\n      <td>67635</td>\n      <td>67635</td>\n      <td>EP</td>\n      <td>AF3</td>\n      <td>6</td>\n      <td>260</td>\n      <td>[4395.384615, 4382.564102, 4377.435897, 4387.1...</td>\n      <td>[0.8441558461291976, 0.5194805129026889, 0.389...</td>\n    </tr>\n    <tr>\n      <th>1</th>\n      <td>67636</td>\n      <td>67635</td>\n      <td>EP</td>\n      <td>F7</td>\n      <td>6</td>\n      <td>260</td>\n      <td>[4489.230769, 4475.384615, 4474.358974, 4486.6...</td>\n      <td>[0.4296875010711574, 0.2187499966674693, 0.203...</td>\n    </tr>\n    <tr>\n      <th>2</th>\n      <td>67637</td>\n      <td>67635</td>\n      <td>EP</td>\n      <td>F3</td>\n      <td>6</td>\n      <td>260</td>\n      <td>[4538.461538, 4528.717948, 4524.615384, 4526.1...</td>\n      <td>[0.945205480183887, 0.684931497701271, 0.57534...</td>\n    </tr>\n    <tr>\n      <th>3</th>\n      <td>67638</td>\n      <td>67635</td>\n      <td>EP</td>\n      <td>FC5</td>\n      <td>6</td>\n      <td>260</td>\n      <td>[4207.692307, 4205.641025, 4200.51282, 4194.35...</td>\n      <td>[0.3440860178980216, 0.3010752656607565, 0.193...</td>\n    </tr>\n    <tr>\n      <th>4</th>\n      <td>67639</td>\n      <td>67635</td>\n      <td>EP</td>\n      <td>T7</td>\n      <td>6</td>\n      <td>260</td>\n      <td>[4497.948717, 4498.461538, 4494.871794, 4497.9...</td>\n      <td>[0.43749997714844824, 0.44999998903124094, 0.3...</td>\n    </tr>\n  </tbody>\n</table>\n</div>"
     },
     "execution_count": 9,
     "metadata": {},
     "output_type": "execute_result"
    }
   ],
   "source": [
    "data.head()"
   ],
   "metadata": {
    "collapsed": false,
    "ExecuteTime": {
     "end_time": "2024-03-25T17:19:16.396099Z",
     "start_time": "2024-03-25T17:19:16.369382Z"
    }
   },
   "id": "f25b04ab4b4791ea",
   "execution_count": 9
  },
  {
   "cell_type": "markdown",
   "source": [
    "What we essentially did here was to transform the data such that its range would be between 0 and 1. This is a common preprocessing step in machine learning, as it helps to ensure that all features contribute equally to the model and are on a similar scale. Normalizing the data can also help to improve the convergence of optimization algorithms and the overall performance of the model."
   ],
   "metadata": {
    "collapsed": false
   },
   "id": "13d1ba4c3919b8c"
  },
  {
   "cell_type": "markdown",
   "source": [
    "## 2. Building the autoencoder\n",
    "\n",
    "Building an autoencoder involves defining both an encoder and a decoder. The encoder compresses the input data into a lower-dimensional representation, and the decoder attempts to reconstruct the original input data from this compressed representation. Autoencoders are trained to minimize the reconstruction error, often using mean squared error (MSE) or a similar loss function."
   ],
   "metadata": {
    "collapsed": false
   },
   "id": "c37da7db2dd2de1f"
  },
  {
   "cell_type": "code",
   "outputs": [],
   "source": [
    "import torch\n",
    "from torch import nn"
   ],
   "metadata": {
    "collapsed": false,
    "ExecuteTime": {
     "end_time": "2024-03-25T17:19:17.508385Z",
     "start_time": "2024-03-25T17:19:16.397145Z"
    }
   },
   "id": "f711ab843e591512",
   "execution_count": 10
  },
  {
   "cell_type": "code",
   "outputs": [],
   "source": [
    "class SimpleAutoencoder(nn.Module):\n",
    "    def __init__(self, input_size):\n",
    "        super(SimpleAutoencoder, self).__init__()\n",
    "        # Encoder: Linear layer reducing dimensionality from input_size to a compressed representation\n",
    "        self.encoder = nn.Sequential(\n",
    "            nn.Linear(input_size, 128),\n",
    "            nn.ReLU(),\n",
    "            nn.Linear(128, 64),\n",
    "            nn.ReLU(),\n",
    "            nn.Linear(64, 12),  # Compressed representation\n",
    "            nn.ReLU()\n",
    "        )\n",
    "        # Decoder: Linear layer reconstructing the original input from the compressed representation\n",
    "        self.decoder = nn.Sequential(\n",
    "            nn.Linear(12, 64),\n",
    "            nn.ReLU(),\n",
    "            nn.Linear(64, 128),\n",
    "            nn.ReLU(),\n",
    "            nn.Linear(128, input_size),\n",
    "            nn.Sigmoid()\n",
    "        )\n",
    "\n",
    "    def forward(self, x):\n",
    "        x = self.encoder(x)\n",
    "        x = self.decoder(x)\n",
    "        return x"
   ],
   "metadata": {
    "collapsed": false,
    "ExecuteTime": {
     "end_time": "2024-03-25T17:19:17.513763Z",
     "start_time": "2024-03-25T17:19:17.510713Z"
    }
   },
   "id": "ec0cf9d6a259a8fe",
   "execution_count": 11
  },
  {
   "cell_type": "markdown",
   "source": [
    "Check the length of all the inputs we have in column \"size\""
   ],
   "metadata": {
    "collapsed": false
   },
   "id": "4d5d62bc2dacd289"
  },
  {
   "cell_type": "code",
   "outputs": [
    {
     "data": {
      "text/plain": "array([260, 256, 264, 261, 252, 257, 248, 272, 268, 265, 249, 253, 204,\n       320, 269, 276, 244, 273, 196, 228, 292, 224, 280, 212, 232, 240,\n       284, 136])"
     },
     "execution_count": 12,
     "metadata": {},
     "output_type": "execute_result"
    }
   ],
   "source": [
    "data['size'].unique()"
   ],
   "metadata": {
    "collapsed": false,
    "ExecuteTime": {
     "end_time": "2024-03-25T17:19:17.520206Z",
     "start_time": "2024-03-25T17:19:17.514474Z"
    }
   },
   "id": "e0e6ff748d6fd894",
   "execution_count": 12
  },
  {
   "cell_type": "markdown",
   "source": [
    "Looks like we have lots of different sizes, lets find the mean size and cut everything to it."
   ],
   "metadata": {
    "collapsed": false
   },
   "id": "67494189ef2553b1"
  },
  {
   "cell_type": "code",
   "outputs": [
    {
     "data": {
      "text/plain": "count    910476.000000\nmean        259.511901\nstd           2.319790\nmin         136.000000\n25%         260.000000\n50%         260.000000\n75%         260.000000\nmax         320.000000\nName: size, dtype: float64"
     },
     "execution_count": 13,
     "metadata": {},
     "output_type": "execute_result"
    }
   ],
   "source": [
    "data['size'].describe()"
   ],
   "metadata": {
    "collapsed": false,
    "ExecuteTime": {
     "end_time": "2024-03-25T17:19:17.544769Z",
     "start_time": "2024-03-25T17:19:17.520988Z"
    }
   },
   "id": "ebd8f4dd338df309",
   "execution_count": 13
  },
  {
   "cell_type": "code",
   "outputs": [
    {
     "data": {
      "text/plain": "count    606214.0\nmean        260.0\nstd           0.0\nmin         260.0\n25%         260.0\n50%         260.0\n75%         260.0\nmax         260.0\nName: size, dtype: float64"
     },
     "execution_count": 14,
     "metadata": {},
     "output_type": "execute_result"
    }
   ],
   "source": [
    "filtered_data = data[data['size'] == 260]\n",
    "filtered_data['size'].describe()"
   ],
   "metadata": {
    "collapsed": false,
    "ExecuteTime": {
     "end_time": "2024-03-25T17:19:17.655418Z",
     "start_time": "2024-03-25T17:19:17.545402Z"
    }
   },
   "id": "509653daa5d77875",
   "execution_count": 14
  },
  {
   "cell_type": "code",
   "outputs": [],
   "source": [
    "input_size = filtered_data['size'].unique()[0]\n",
    "autoencoder = SimpleAutoencoder(input_size)"
   ],
   "metadata": {
    "collapsed": false,
    "ExecuteTime": {
     "end_time": "2024-03-25T17:19:17.665293Z",
     "start_time": "2024-03-25T17:19:17.656164Z"
    }
   },
   "id": "484390e1bf7a623",
   "execution_count": 15
  },
  {
   "cell_type": "markdown",
   "source": [
    "## 3. Training the Autoencoder\n",
    "We'll start by creating a dataloader from the dataset we have"
   ],
   "metadata": {
    "collapsed": false
   },
   "id": "f340c052463ec704"
  },
  {
   "cell_type": "code",
   "outputs": [
    {
     "data": {
      "text/plain": "0         [0.8441558461291976, 0.5194805129026889, 0.389...\n1         [0.4296875010711574, 0.2187499966674693, 0.203...\n2         [0.945205480183887, 0.684931497701271, 0.57534...\n3         [0.3440860178980216, 0.3010752656607565, 0.193...\n4         [0.43749997714844824, 0.44999998903124094, 0.3...\n                                ...                        \n908217    [0.8699187022803727, 0.8943089535296451, 0.666...\n908218    [0.7868852493079856, 0.7540983645861274, 0.344...\n908219    [0.6814159374500832, 0.707964600700933, 0.5044...\n908220    [0.846715338856626, 0.9270073008284925, 0.7372...\n908221    [0.9819819824567873, 0.9909909824446146, 0.756...\nName: normalized_data, Length: 606214, dtype: object"
     },
     "execution_count": 16,
     "metadata": {},
     "output_type": "execute_result"
    }
   ],
   "source": [
    "filtered_data['normalized_data']"
   ],
   "metadata": {
    "collapsed": false,
    "ExecuteTime": {
     "end_time": "2024-03-25T17:19:17.671164Z",
     "start_time": "2024-03-25T17:19:17.666151Z"
    }
   },
   "id": "12fb38062fcd5adb",
   "execution_count": 16
  },
  {
   "cell_type": "code",
   "outputs": [],
   "source": [
    "from torch.utils.data import Dataset, DataLoader\n",
    "import torch"
   ],
   "metadata": {
    "collapsed": false,
    "ExecuteTime": {
     "end_time": "2024-03-25T17:19:17.673849Z",
     "start_time": "2024-03-25T17:19:17.672124Z"
    }
   },
   "id": "801027296d8f3284",
   "execution_count": 17
  },
  {
   "cell_type": "code",
   "outputs": [],
   "source": [
    "class EEGDataset(Dataset):\n",
    "    def __init__(self, dataframe: pd.DataFrame):\n",
    "        self.data = list(dataframe['normalized_data'])\n",
    "        \n",
    "    def __len__(self):\n",
    "        return len(self.data)\n",
    "    \n",
    "    def __getitem__(self, idx):\n",
    "        sample = self.data[idx]\n",
    "        sample = torch.tensor(sample, dtype=torch.float)\n",
    "        return sample\n",
    "    \n",
    "dataset = EEGDataset(filtered_data)\n",
    "dataloader = DataLoader(dataset, batch_size=64, shuffle=True)"
   ],
   "metadata": {
    "collapsed": false,
    "ExecuteTime": {
     "end_time": "2024-03-25T17:19:17.699736Z",
     "start_time": "2024-03-25T17:19:17.674510Z"
    }
   },
   "id": "b6218be7f2fcfc0",
   "execution_count": 18
  },
  {
   "cell_type": "markdown",
   "source": [
    "Now we will set our device agnostic and run some epochs on the data and train the model"
   ],
   "metadata": {
    "collapsed": false
   },
   "id": "fa3e587124f80571"
  },
  {
   "cell_type": "code",
   "outputs": [
    {
     "name": "stdout",
     "output_type": "stream",
     "text": [
      "Epoch [1/20], Loss: 0.0126\n",
      "Epoch [2/20], Loss: 0.0188\n",
      "Epoch [3/20], Loss: 0.0179\n",
      "Epoch [4/20], Loss: 0.0192\n",
      "Epoch [5/20], Loss: 0.0155\n",
      "Epoch [6/20], Loss: 0.0132\n",
      "Epoch [7/20], Loss: 0.0135\n",
      "Epoch [8/20], Loss: 0.0196\n",
      "Epoch [9/20], Loss: 0.0117\n",
      "Epoch [10/20], Loss: 0.0153\n",
      "Epoch [11/20], Loss: 0.0150\n",
      "Epoch [12/20], Loss: 0.0161\n",
      "Epoch [13/20], Loss: 0.0187\n",
      "Epoch [14/20], Loss: 0.0165\n",
      "Epoch [15/20], Loss: 0.0139\n",
      "Epoch [16/20], Loss: 0.0127\n",
      "Epoch [17/20], Loss: 0.0198\n",
      "Epoch [18/20], Loss: 0.0159\n",
      "Epoch [19/20], Loss: 0.0168\n",
      "Epoch [20/20], Loss: 0.0101\n"
     ]
    }
   ],
   "source": [
    "device = 'cpu'\n",
    "# Check if device is mps or Cuda\n",
    "if torch.cuda.is_available():\n",
    "    device = 'cuda'\n",
    "elif torch.backends.mps.is_available():\n",
    "    device = 'mps'\n",
    "\n",
    "autoencoder.to(device)\n",
    "criterion = nn.MSELoss()\n",
    "optimizer = torch.optim.Adam(autoencoder.parameters(), lr=0.001)\n",
    "\n",
    "num_epochs = 20\n",
    "loss = None\n",
    "for epoch in range(num_epochs):\n",
    "    for data in dataloader:\n",
    "        data = data.to(device)\n",
    "        reconstructed = autoencoder(data)\n",
    "        loss = criterion(reconstructed, data)\n",
    "        \n",
    "        optimizer.zero_grad()\n",
    "        loss.backward()\n",
    "        optimizer.step()\n",
    "    print(f'Epoch [{epoch+1}/{num_epochs}], Loss: {loss.item():.4f}')"
   ],
   "metadata": {
    "collapsed": false,
    "ExecuteTime": {
     "end_time": "2024-03-25T17:30:03.195339Z",
     "start_time": "2024-03-25T17:19:17.700453Z"
    }
   },
   "id": "e073d0afcc039a0f",
   "execution_count": 19
  },
  {
   "cell_type": "markdown",
   "source": [
    "## 4. Extracting Features"
   ],
   "metadata": {
    "collapsed": false
   },
   "id": "d09016c4df10bcf"
  },
  {
   "cell_type": "code",
   "outputs": [],
   "source": [
    "features = []\n",
    "for data in DataLoader(dataset, batch_size=64, shuffle=False):\n",
    "    data = data.to(device)\n",
    "    feature = autoencoder.encoder(data)\n",
    "    features.append(feature.cpu().detach().numpy())\n",
    "\n",
    "# Concatenate all features to get the full feature matrix\n",
    "features = np.concatenate(features, axis=0)"
   ],
   "metadata": {
    "collapsed": false,
    "ExecuteTime": {
     "end_time": "2024-03-25T17:30:09.238009Z",
     "start_time": "2024-03-25T17:30:03.196987Z"
    }
   },
   "id": "ddcafca08f643c45",
   "execution_count": 20
  },
  {
   "cell_type": "code",
   "outputs": [
    {
     "data": {
      "text/plain": "array([[0.90449655, 0.48771912, 0.5610764 , ..., 0.34258747, 0.44209775,\n        0.        ],\n       [0.48966312, 0.4753533 , 0.6194325 , ..., 0.29972443, 0.9451819 ,\n        0.        ],\n       [0.91664696, 0.52632046, 0.59676665, ..., 0.38212672, 0.5109515 ,\n        0.        ],\n       ...,\n       [0.5566864 , 0.38670248, 0.7599222 , ..., 0.5121426 , 0.84033996,\n        0.        ],\n       [0.837313  , 0.5058958 , 0.42467445, ..., 0.3728718 , 0.5663262 ,\n        0.        ],\n       [0.8073478 , 0.3785377 , 0.5048099 , ..., 0.38704914, 0.65556824,\n        0.        ]], dtype=float32)"
     },
     "execution_count": 21,
     "metadata": {},
     "output_type": "execute_result"
    }
   ],
   "source": [
    "features"
   ],
   "metadata": {
    "collapsed": false,
    "ExecuteTime": {
     "end_time": "2024-03-25T17:30:09.242291Z",
     "start_time": "2024-03-25T17:30:09.238882Z"
    }
   },
   "id": "b9e1e19275c2d387",
   "execution_count": 21
  },
  {
   "cell_type": "code",
   "outputs": [],
   "source": [
    "import pandas as pd\n",
    "features_df = pd.DataFrame(features)\n",
    "\n",
    "features_df.index = filtered_data.index\n",
    "\n",
    "features_df = features_df.add_prefix('feature_')\n",
    "\n",
    "enhanced_data = pd.concat([filtered_data, features_df], axis=1)"
   ],
   "metadata": {
    "collapsed": false,
    "ExecuteTime": {
     "end_time": "2024-03-25T17:30:09.415460Z",
     "start_time": "2024-03-25T17:30:09.242864Z"
    }
   },
   "id": "eea23d33bfb5438a",
   "execution_count": 22
  },
  {
   "cell_type": "code",
   "outputs": [
    {
     "data": {
      "text/plain": "      id  event_id device channel  code  size  \\\n0  67635     67635     EP     AF3     6   260   \n1  67636     67635     EP      F7     6   260   \n2  67637     67635     EP      F3     6   260   \n3  67638     67635     EP     FC5     6   260   \n4  67639     67635     EP      T7     6   260   \n\n                                                data  \\\n0  [4395.384615, 4382.564102, 4377.435897, 4387.1...   \n1  [4489.230769, 4475.384615, 4474.358974, 4486.6...   \n2  [4538.461538, 4528.717948, 4524.615384, 4526.1...   \n3  [4207.692307, 4205.641025, 4200.51282, 4194.35...   \n4  [4497.948717, 4498.461538, 4494.871794, 4497.9...   \n\n                                     normalized_data  feature_0  feature_1  \\\n0  [0.8441558461291976, 0.5194805129026889, 0.389...   0.904497   0.487719   \n1  [0.4296875010711574, 0.2187499966674693, 0.203...   0.489663   0.475353   \n2  [0.945205480183887, 0.684931497701271, 0.57534...   0.916647   0.526320   \n3  [0.3440860178980216, 0.3010752656607565, 0.193...   0.546498   0.564950   \n4  [0.43749997714844824, 0.44999998903124094, 0.3...   0.688772   0.345917   \n\n   feature_2  feature_3  feature_4  feature_5  feature_6  feature_7  \\\n0   0.561076        0.0   0.811893   0.672044   0.713058        0.0   \n1   0.619433        0.0   0.467286   0.788355   0.643914        0.0   \n2   0.596767        0.0   0.898087   0.810027   0.759168        0.0   \n3   0.749984        0.0   0.755893   0.504347   0.580745        0.0   \n4   0.693956        0.0   0.646591   0.844920   0.490946        0.0   \n\n   feature_8  feature_9  feature_10  feature_11  \n0   0.765443   0.342587    0.442098         0.0  \n1   0.765715   0.299724    0.945182         0.0  \n2   0.661439   0.382127    0.510952         0.0  \n3   0.676160   0.330577    0.473930         0.0  \n4   0.576454   0.490116    0.434014         0.0  ",
      "text/html": "<div>\n<style scoped>\n    .dataframe tbody tr th:only-of-type {\n        vertical-align: middle;\n    }\n\n    .dataframe tbody tr th {\n        vertical-align: top;\n    }\n\n    .dataframe thead th {\n        text-align: right;\n    }\n</style>\n<table border=\"1\" class=\"dataframe\">\n  <thead>\n    <tr style=\"text-align: right;\">\n      <th></th>\n      <th>id</th>\n      <th>event_id</th>\n      <th>device</th>\n      <th>channel</th>\n      <th>code</th>\n      <th>size</th>\n      <th>data</th>\n      <th>normalized_data</th>\n      <th>feature_0</th>\n      <th>feature_1</th>\n      <th>feature_2</th>\n      <th>feature_3</th>\n      <th>feature_4</th>\n      <th>feature_5</th>\n      <th>feature_6</th>\n      <th>feature_7</th>\n      <th>feature_8</th>\n      <th>feature_9</th>\n      <th>feature_10</th>\n      <th>feature_11</th>\n    </tr>\n  </thead>\n  <tbody>\n    <tr>\n      <th>0</th>\n      <td>67635</td>\n      <td>67635</td>\n      <td>EP</td>\n      <td>AF3</td>\n      <td>6</td>\n      <td>260</td>\n      <td>[4395.384615, 4382.564102, 4377.435897, 4387.1...</td>\n      <td>[0.8441558461291976, 0.5194805129026889, 0.389...</td>\n      <td>0.904497</td>\n      <td>0.487719</td>\n      <td>0.561076</td>\n      <td>0.0</td>\n      <td>0.811893</td>\n      <td>0.672044</td>\n      <td>0.713058</td>\n      <td>0.0</td>\n      <td>0.765443</td>\n      <td>0.342587</td>\n      <td>0.442098</td>\n      <td>0.0</td>\n    </tr>\n    <tr>\n      <th>1</th>\n      <td>67636</td>\n      <td>67635</td>\n      <td>EP</td>\n      <td>F7</td>\n      <td>6</td>\n      <td>260</td>\n      <td>[4489.230769, 4475.384615, 4474.358974, 4486.6...</td>\n      <td>[0.4296875010711574, 0.2187499966674693, 0.203...</td>\n      <td>0.489663</td>\n      <td>0.475353</td>\n      <td>0.619433</td>\n      <td>0.0</td>\n      <td>0.467286</td>\n      <td>0.788355</td>\n      <td>0.643914</td>\n      <td>0.0</td>\n      <td>0.765715</td>\n      <td>0.299724</td>\n      <td>0.945182</td>\n      <td>0.0</td>\n    </tr>\n    <tr>\n      <th>2</th>\n      <td>67637</td>\n      <td>67635</td>\n      <td>EP</td>\n      <td>F3</td>\n      <td>6</td>\n      <td>260</td>\n      <td>[4538.461538, 4528.717948, 4524.615384, 4526.1...</td>\n      <td>[0.945205480183887, 0.684931497701271, 0.57534...</td>\n      <td>0.916647</td>\n      <td>0.526320</td>\n      <td>0.596767</td>\n      <td>0.0</td>\n      <td>0.898087</td>\n      <td>0.810027</td>\n      <td>0.759168</td>\n      <td>0.0</td>\n      <td>0.661439</td>\n      <td>0.382127</td>\n      <td>0.510952</td>\n      <td>0.0</td>\n    </tr>\n    <tr>\n      <th>3</th>\n      <td>67638</td>\n      <td>67635</td>\n      <td>EP</td>\n      <td>FC5</td>\n      <td>6</td>\n      <td>260</td>\n      <td>[4207.692307, 4205.641025, 4200.51282, 4194.35...</td>\n      <td>[0.3440860178980216, 0.3010752656607565, 0.193...</td>\n      <td>0.546498</td>\n      <td>0.564950</td>\n      <td>0.749984</td>\n      <td>0.0</td>\n      <td>0.755893</td>\n      <td>0.504347</td>\n      <td>0.580745</td>\n      <td>0.0</td>\n      <td>0.676160</td>\n      <td>0.330577</td>\n      <td>0.473930</td>\n      <td>0.0</td>\n    </tr>\n    <tr>\n      <th>4</th>\n      <td>67639</td>\n      <td>67635</td>\n      <td>EP</td>\n      <td>T7</td>\n      <td>6</td>\n      <td>260</td>\n      <td>[4497.948717, 4498.461538, 4494.871794, 4497.9...</td>\n      <td>[0.43749997714844824, 0.44999998903124094, 0.3...</td>\n      <td>0.688772</td>\n      <td>0.345917</td>\n      <td>0.693956</td>\n      <td>0.0</td>\n      <td>0.646591</td>\n      <td>0.844920</td>\n      <td>0.490946</td>\n      <td>0.0</td>\n      <td>0.576454</td>\n      <td>0.490116</td>\n      <td>0.434014</td>\n      <td>0.0</td>\n    </tr>\n  </tbody>\n</table>\n</div>"
     },
     "execution_count": 23,
     "metadata": {},
     "output_type": "execute_result"
    }
   ],
   "source": [
    "enhanced_data.head()"
   ],
   "metadata": {
    "collapsed": false,
    "ExecuteTime": {
     "end_time": "2024-03-25T17:30:09.428299Z",
     "start_time": "2024-03-25T17:30:09.416345Z"
    }
   },
   "id": "6cd95a41f706cc77",
   "execution_count": 23
  },
  {
   "cell_type": "markdown",
   "source": [
    "# 2. Mutual Information\n",
    "In this part we will check which of the features (That we selected from the autoencoder) are the most important for the target variable."
   ],
   "metadata": {
    "collapsed": false
   },
   "id": "735d551aa749429c"
  },
  {
   "cell_type": "code",
   "outputs": [
    {
     "data": {
      "text/plain": "feature_1     0.001413\nfeature_10    0.001240\nfeature_7     0.001220\nfeature_3     0.000745\nfeature_6     0.000741\nfeature_2     0.000681\nfeature_9     0.000246\nfeature_8     0.000148\nfeature_0     0.000000\nfeature_4     0.000000\nfeature_5     0.000000\nfeature_11    0.000000\ndtype: float64"
     },
     "execution_count": 24,
     "metadata": {},
     "output_type": "execute_result"
    }
   ],
   "source": [
    "from sklearn.feature_selection import mutual_info_regression\n",
    "\n",
    "# Selecting the features and target variable\n",
    "X = enhanced_data.drop(columns=['id', 'event_id', 'device', 'channel', 'code', 'size', 'data', 'normalized_data'])\n",
    "y = enhanced_data['code']\n",
    "\n",
    "# Calculating the mutual information\n",
    "mi = mutual_info_regression(X, y)\n",
    "mi = pd.Series(mi, index=X.columns)\n",
    "mi = mi.sort_values(ascending=False)\n",
    "mi"
   ],
   "metadata": {
    "collapsed": false,
    "ExecuteTime": {
     "end_time": "2024-03-25T17:30:40.024060Z",
     "start_time": "2024-03-25T17:30:09.428967Z"
    }
   },
   "id": "2d6466a3248ad5ca",
   "execution_count": 24
  },
  {
   "cell_type": "code",
   "outputs": [
    {
     "data": {
      "text/plain": "<Figure size 1000x600 with 1 Axes>",
      "image/png": "[encoded data removed]"
     },
     "metadata": {},
     "output_type": "display_data"
    }
   ],
   "source": [
    "# Print the mutual information\n",
    "plt.figure(figsize=(10, 6))\n",
    "mi.plot(kind='bar')\n",
    "plt.xlabel('Feature')\n",
    "plt.ylabel('Mutual Information')\n",
    "plt.title('Mutual Information with Target Variable')\n",
    "plt.show()"
   ],
   "metadata": {
    "collapsed": false,
    "ExecuteTime": {
     "end_time": "2024-03-25T17:30:40.267055Z",
     "start_time": "2024-03-25T17:30:40.024849Z"
    }
   },
   "id": "5e51a05eed161bd6",
   "execution_count": 25
  },
  {
   "cell_type": "markdown",
   "source": [
    "This is a powerful insight, as it allows us to focus on the most relevant features when building our predictive model. By understanding which features are most informative, we can potentially improve the performance of our model and gain deeper insights into the underlying patterns in the data."
   ],
   "metadata": {
    "collapsed": false
   },
   "id": "3dad78a5e9c9d979"
  },
  {
   "cell_type": "markdown",
   "source": [
    "# 3. PCA (Principal Component Analysis)\n",
    "In this part we will use PCA to reduce the dimensionality of the data and extract the most important components. This will help us to visualize the data in a lower-dimensional space and identify the key patterns and relationships within the data."
   ],
   "metadata": {
    "collapsed": false
   },
   "id": "fa17bf8dbb634160"
  },
  {
   "cell_type": "code",
   "outputs": [
    {
     "data": {
      "text/plain": "      id  event_id device channel  code  size  \\\n0  67635     67635     EP     AF3     6   260   \n1  67636     67635     EP      F7     6   260   \n2  67637     67635     EP      F3     6   260   \n3  67638     67635     EP     FC5     6   260   \n4  67639     67635     EP      T7     6   260   \n\n                                                data  \\\n0  [4395.384615, 4382.564102, 4377.435897, 4387.1...   \n1  [4489.230769, 4475.384615, 4474.358974, 4486.6...   \n2  [4538.461538, 4528.717948, 4524.615384, 4526.1...   \n3  [4207.692307, 4205.641025, 4200.51282, 4194.35...   \n4  [4497.948717, 4498.461538, 4494.871794, 4497.9...   \n\n                                     normalized_data  feature_0  feature_1  \\\n0  [0.8441558461291976, 0.5194805129026889, 0.389...   0.904497   0.487719   \n1  [0.4296875010711574, 0.2187499966674693, 0.203...   0.489663   0.475353   \n2  [0.945205480183887, 0.684931497701271, 0.57534...   0.916647   0.526320   \n3  [0.3440860178980216, 0.3010752656607565, 0.193...   0.546498   0.564950   \n4  [0.43749997714844824, 0.44999998903124094, 0.3...   0.688772   0.345917   \n\n   ...      PCA2      PCA3      PCA4      PCA5      PCA6      PCA7      PCA8  \\\n0  ...  0.166355 -0.168553  0.184166 -0.088950 -0.000994 -0.022151 -0.082237   \n1  ... -0.167774  0.092574  0.105107 -0.037820 -0.224092  0.097827 -0.172578   \n2  ... -0.001808 -0.192078  0.196797 -0.174063  0.080654 -0.057041 -0.091369   \n3  ...  0.175918  0.019001 -0.007361  0.102831  0.126601 -0.094360  0.017699   \n4  ... -0.113993  0.084097  0.242162  0.153686 -0.005805 -0.001751  0.099933   \n\n       PCA9         PCA10         PCA11  \n0  0.115546 -8.701119e-10  6.050100e-10  \n1  0.041964 -1.233749e-09 -3.692587e-10  \n2  0.173846 -2.015978e-09  1.168556e-10  \n3  0.062883 -1.078715e-06  6.312214e-07  \n4  0.090129  1.125291e-09  2.048564e-10  \n\n[5 rows x 31 columns]",
      "text/html": "<div>\n<style scoped>\n    .dataframe tbody tr th:only-of-type {\n        vertical-align: middle;\n    }\n\n    .dataframe tbody tr th {\n        vertical-align: top;\n    }\n\n    .dataframe thead th {\n        text-align: right;\n    }\n</style>\n<table border=\"1\" class=\"dataframe\">\n  <thead>\n    <tr style=\"text-align: right;\">\n      <th></th>\n      <th>id</th>\n      <th>event_id</th>\n      <th>device</th>\n      <th>channel</th>\n      <th>code</th>\n      <th>size</th>\n      <th>data</th>\n      <th>normalized_data</th>\n      <th>feature_0</th>\n      <th>feature_1</th>\n      <th>...</th>\n      <th>PCA2</th>\n      <th>PCA3</th>\n      <th>PCA4</th>\n      <th>PCA5</th>\n      <th>PCA6</th>\n      <th>PCA7</th>\n      <th>PCA8</th>\n      <th>PCA9</th>\n      <th>PCA10</th>\n      <th>PCA11</th>\n    </tr>\n  </thead>\n  <tbody>\n    <tr>\n      <th>0</th>\n      <td>67635</td>\n      <td>67635</td>\n      <td>EP</td>\n      <td>AF3</td>\n      <td>6</td>\n      <td>260</td>\n      <td>[4395.384615, 4382.564102, 4377.435897, 4387.1...</td>\n      <td>[0.8441558461291976, 0.5194805129026889, 0.389...</td>\n      <td>0.904497</td>\n      <td>0.487719</td>\n      <td>...</td>\n      <td>0.166355</td>\n      <td>-0.168553</td>\n      <td>0.184166</td>\n      <td>-0.088950</td>\n      <td>-0.000994</td>\n      <td>-0.022151</td>\n      <td>-0.082237</td>\n      <td>0.115546</td>\n      <td>-8.701119e-10</td>\n      <td>6.050100e-10</td>\n    </tr>\n    <tr>\n      <th>1</th>\n      <td>67636</td>\n      <td>67635</td>\n      <td>EP</td>\n      <td>F7</td>\n      <td>6</td>\n      <td>260</td>\n      <td>[4489.230769, 4475.384615, 4474.358974, 4486.6...</td>\n      <td>[0.4296875010711574, 0.2187499966674693, 0.203...</td>\n      <td>0.489663</td>\n      <td>0.475353</td>\n      <td>...</td>\n      <td>-0.167774</td>\n      <td>0.092574</td>\n      <td>0.105107</td>\n      <td>-0.037820</td>\n      <td>-0.224092</td>\n      <td>0.097827</td>\n      <td>-0.172578</td>\n      <td>0.041964</td>\n      <td>-1.233749e-09</td>\n      <td>-3.692587e-10</td>\n    </tr>\n    <tr>\n      <th>2</th>\n      <td>67637</td>\n      <td>67635</td>\n      <td>EP</td>\n      <td>F3</td>\n      <td>6</td>\n      <td>260</td>\n      <td>[4538.461538, 4528.717948, 4524.615384, 4526.1...</td>\n      <td>[0.945205480183887, 0.684931497701271, 0.57534...</td>\n      <td>0.916647</td>\n      <td>0.526320</td>\n      <td>...</td>\n      <td>-0.001808</td>\n      <td>-0.192078</td>\n      <td>0.196797</td>\n      <td>-0.174063</td>\n      <td>0.080654</td>\n      <td>-0.057041</td>\n      <td>-0.091369</td>\n      <td>0.173846</td>\n      <td>-2.015978e-09</td>\n      <td>1.168556e-10</td>\n    </tr>\n    <tr>\n      <th>3</th>\n      <td>67638</td>\n      <td>67635</td>\n      <td>EP</td>\n      <td>FC5</td>\n      <td>6</td>\n      <td>260</td>\n      <td>[4207.692307, 4205.641025, 4200.51282, 4194.35...</td>\n      <td>[0.3440860178980216, 0.3010752656607565, 0.193...</td>\n      <td>0.546498</td>\n      <td>0.564950</td>\n      <td>...</td>\n      <td>0.175918</td>\n      <td>0.019001</td>\n      <td>-0.007361</td>\n      <td>0.102831</td>\n      <td>0.126601</td>\n      <td>-0.094360</td>\n      <td>0.017699</td>\n      <td>0.062883</td>\n      <td>-1.078715e-06</td>\n      <td>6.312214e-07</td>\n    </tr>\n    <tr>\n      <th>4</th>\n      <td>67639</td>\n      <td>67635</td>\n      <td>EP</td>\n      <td>T7</td>\n      <td>6</td>\n      <td>260</td>\n      <td>[4497.948717, 4498.461538, 4494.871794, 4497.9...</td>\n      <td>[0.43749997714844824, 0.44999998903124094, 0.3...</td>\n      <td>0.688772</td>\n      <td>0.345917</td>\n      <td>...</td>\n      <td>-0.113993</td>\n      <td>0.084097</td>\n      <td>0.242162</td>\n      <td>0.153686</td>\n      <td>-0.005805</td>\n      <td>-0.001751</td>\n      <td>0.099933</td>\n      <td>0.090129</td>\n      <td>1.125291e-09</td>\n      <td>2.048564e-10</td>\n    </tr>\n  </tbody>\n</table>\n<p>5 rows × 31 columns</p>\n</div>"
     },
     "execution_count": 26,
     "metadata": {},
     "output_type": "execute_result"
    }
   ],
   "source": [
    "from sklearn.decomposition import PCA\n",
    "\n",
    "# Fit PCA to the features\n",
    "pca = PCA(n_components=11) # We have 0-9 numbers shown to subject and (-1) for random signal (Total 11)\n",
    "pca_features = pca.fit_transform(X)\n",
    "\n",
    "# Create a DataFrame with the PCA features\n",
    "pca_df = pd.DataFrame(data=pca_features, columns=['PCA1', 'PCA2', 'PCA3', 'PCA4', 'PCA5', 'PCA6', 'PCA7', 'PCA8', 'PCA9', 'PCA10', 'PCA11'])\n",
    "pca_df.index = X.index\n",
    "\n",
    "# Concatenate the PCA features with the original data\n",
    "pca_data = pd.concat([enhanced_data, pca_df], axis=1)\n",
    "pca_data.head()"
   ],
   "metadata": {
    "collapsed": false,
    "ExecuteTime": {
     "end_time": "2024-03-25T17:30:40.476054Z",
     "start_time": "2024-03-25T17:30:40.269547Z"
    }
   },
   "id": "66652959c3f897a8",
   "execution_count": 26
  },
  {
   "cell_type": "code",
   "outputs": [
    {
     "data": {
      "text/plain": "<Figure size 1000x600 with 1 Axes>",
      "image/png": "[encoded data removed]"
     },
     "metadata": {},
     "output_type": "display_data"
    }
   ],
   "source": [
    "# Plot the explained variance ratio\n",
    "plt.figure(figsize=(10, 6))\n",
    "plt.plot(np.cumsum(pca.explained_variance_ratio_))\n",
    "plt.xlabel('Number of Components')\n",
    "plt.ylabel('Cumulative Explained Variance')\n",
    "plt.title('Explained Variance Ratio by Number of Components')\n",
    "plt.show()"
   ],
   "metadata": {
    "collapsed": false,
    "ExecuteTime": {
     "end_time": "2024-03-25T17:30:40.680803Z",
     "start_time": "2024-03-25T17:30:40.487898Z"
    }
   },
   "id": "9229559e4fced803",
   "execution_count": 27
  },
  {
   "cell_type": "markdown",
   "source": [
    "We see that the first 11 components explain almost 100% of the variance in the data. This means that we can effectively represent the data in a lower-dimensional space while retaining most of the information. By using PCA, we can reduce the dimensionality of the data, improve computational efficiency, and potentially enhance the performance of our predictive model."
   ],
   "metadata": {
    "collapsed": false
   },
   "id": "e823eb399cc9743b"
  },
  {
   "cell_type": "markdown",
   "source": [
    "# 4. Random Forest\n",
    "The final feature extraction method we'll explore is Random Forest. We'll train a Random Forest model on the data and examine the feature importances attributed by the model. This will help us to identify which features are most influential in predicting the target variable and gain insights into the underlying patterns in the data."
   ],
   "metadata": {
    "collapsed": false
   },
   "id": "d6d7caa1fb947584"
  },
  {
   "cell_type": "code",
   "outputs": [
    {
     "data": {
      "text/plain": "feature_6     0.111250\nfeature_10    0.111195\nfeature_2     0.111176\nfeature_9     0.111171\nfeature_0     0.111155\nfeature_1     0.111150\nfeature_4     0.110997\nfeature_8     0.110980\nfeature_5     0.110927\nfeature_3     0.000000\nfeature_7     0.000000\nfeature_11    0.000000\ndtype: float64"
     },
     "execution_count": 28,
     "metadata": {},
     "output_type": "execute_result"
    }
   ],
   "source": [
    "from sklearn.ensemble import RandomForestClassifier\n",
    "\n",
    "# Split the data into training and testing sets\n",
    "from sklearn.model_selection import train_test_split\n",
    "\n",
    "X_train, X_test, y_train, y_test = train_test_split(X, y, test_size=0.2, random_state=42)\n",
    "\n",
    "# Train a Random Forest model\n",
    "rf = RandomForestClassifier(n_estimators=100, random_state=42)\n",
    "rf.fit(X_train, y_train)\n",
    "\n",
    "# Get feature importances\n",
    "feature_importances = rf.feature_importances_\n",
    "feature_importances = pd.Series(feature_importances, index=X.columns)\n",
    "feature_importances = feature_importances.sort_values(ascending=False)\n",
    "feature_importances"
   ],
   "metadata": {
    "collapsed": false,
    "ExecuteTime": {
     "end_time": "2024-03-25T17:34:22.260754Z",
     "start_time": "2024-03-25T17:30:40.683361Z"
    }
   },
   "id": "51bae9da127785cc",
   "execution_count": 28
  },
  {
   "cell_type": "code",
   "outputs": [
    {
     "data": {
      "text/plain": "<Figure size 1000x600 with 1 Axes>",
      "image/png": "[encoded data removed]"
     },
     "metadata": {},
     "output_type": "display_data"
    }
   ],
   "source": [
    "# Plot the feature importances\n",
    "plt.figure(figsize=(10, 6))\n",
    "feature_importances.plot(kind='bar')\n",
    "plt.xlabel('Feature')\n",
    "plt.ylabel('Importance')\n",
    "plt.title('Feature Importances from Random Forest')\n",
    "plt.show()"
   ],
   "metadata": {
    "collapsed": false,
    "ExecuteTime": {
     "end_time": "2024-03-25T17:34:22.422543Z",
     "start_time": "2024-03-25T17:34:22.268002Z"
    }
   },
   "id": "dc9fd4d83bc8007b",
   "execution_count": 29
  },
  {
   "cell_type": "markdown",
   "source": [
    "The feature importances from the Random Forest model provide valuable insights into which features are most predictive of the target variable. By understanding the importance of each feature, we can focus on the most relevant data and potentially improve the performance of our predictive model. This method is particularly useful for identifying key patterns and relationships in complex datasets, helping us to extract meaningful information and make informed decisions.\n",
    "\n",
    "We can see in our case that the features 2, 3 and 8 have 0 value for the importance, this means that they are not important for the target variable and we can remove them from the dataset."
   ],
   "metadata": {
    "collapsed": false
   },
   "id": "2efad7b4fc7c1f4c"
  },
  {
   "cell_type": "markdown",
   "source": [
    "So if we would take the information from the random forest and the mutual information we can clearly see that the features 2, 3 and 8 are not important for the target variable and we can remove them from the dataset without any loss of information. "
   ],
   "metadata": {
    "collapsed": false
   },
   "id": "52154d8d61512ff0"
  },
  {
   "cell_type": "code",
   "outputs": [],
   "source": [],
   "metadata": {
    "collapsed": false,
    "ExecuteTime": {
     "end_time": "2024-03-25T17:34:22.426546Z",
     "start_time": "2024-03-25T17:34:22.423803Z"
    }
   },
   "id": "722f1195865d8770",
   "execution_count": 29
  }
 ],
 "metadata": {
  "kernelspec": {
   "display_name": "Python 3",
   "language": "python",
   "name": "python3"
  },
  "language_info": {
   "codemirror_mode": {
    "name": "ipython",
    "version": 2
   },
   "file_extension": ".py",
   "mimetype": "text/x-python",
   "name": "python",
   "nbconvert_exporter": "python",
   "pygments_lexer": "ipython2",
   "version": "2.7.6"
  }
 },
 "nbformat": 4,
 "nbformat_minor": 5
}
