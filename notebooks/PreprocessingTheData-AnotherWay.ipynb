{
 "cells": [
  {
   "cell_type": "markdown",
   "source": [
    "# Preprocessing the Data - The Other Way\n",
    "\n",
    "In this intriguing assignment, the goal was to exchange our swords - or rather, our feature extraction methods - with a fellow student. This twist meant that I delved into the techniques my peer employed in their dataset, and they ventured into the methods I used in my previous assignment (for reference, see [PreprocessingTheData.ipynb](PreprocessingTheData.ipynb)). It's a fantastic opportunity to step outside our comfort zones and see how our data dances with different partners.\n",
    "\n",
    "## Feature Extraction Methods\n",
    "\n",
    "Feature extraction is like finding the magic keys that unlock the most information or the most meaningful signals from our dataset. In this section, I'm going to embark on a journey with the following magical tools:\n",
    "\n",
    "### 1. Autoencoder\n",
    "\n",
    "Autoencoders are neural networks designed to learn an efficient representation (encoding) for data, typically for the purpose of dimensionality reduction. They work by compressing the input into a lower-dimensional code and then reconstructing the output from this representation. The beauty of autoencoders lies in their ability to capture the most salient features of the data automatically.\n",
    "\n",
    "An autoencoder consists of two main parts: the encoder, which compresses the input data, and the decoder, which reconstructs the data from the compressed form. The goal is to minimize the difference between the original input and the reconstructed output, thus forcing the autoencoder to learn a compact representation of the data.\n",
    "\n",
    "### 2. Mutual Information\n",
    "\n",
    "Mutual information is a measure from information theory, describing the amount of information obtained about one random variable through observing another random variable. In feature selection, we use it to quantify the \"amount of information\" a feature gives us about the outcome. It's a powerful way to identify features that contribute most to predicting the target variable, enabling us to focus on relevant data and potentially improve model performance.\n",
    "\n",
    "### 3. PCA (Principal Component Analysis)\n",
    "\n",
    "PCA is a statistical technique that converts high-dimensional data into a lower-dimensional form (components) while retaining as much of the variance in the dataset as possible. It's like finding the best angles to view a gemstone, revealing its structure in fewer dimensions. PCA helps in reducing the dimensionality of the data, improving computational efficiency, and sometimes even improving model performance by eliminating noise and redundant features.\n",
    "\n",
    "### 4. Random Forest\n",
    "\n",
    "While primarily a machine learning model, Random Forest can also be leveraged for feature extraction. By training a Random Forest model, we can inspect the feature importances attributed by the model, giving us insights into which features it finds most predictive. This method is particularly useful for understanding feature importance in non-linear and complex datasets, helping to highlight which features are most influential in predicting the outcome.\n",
    "\n",
    "Each of these methods brings a unique perspective on how to unlock the secrets within our data. By experimenting with and understanding these techniques, we gain valuable skills and insights that can be applied across a wide range of data science challenges."
   ],
   "metadata": {
    "collapsed": false
   },
   "id": "f04dde3a743e8307"
  },
  {
   "cell_type": "markdown",
   "source": [
    "# Initial data preprocessing\n",
    "Similarly like we had in the previous notebook we would load the EP1.01.txt data as it represents in the best way the rest of the data. Also we would process the \"data\" colum from string (With \",\" delimiter) to an array of floats that represent the signals."
   ],
   "metadata": {
    "collapsed": false
   },
   "id": "efcf385ad8910294"
  },
  {
   "cell_type": "code",
   "execution_count": 1,
   "id": "initial_id",
   "metadata": {
    "collapsed": true,
    "ExecuteTime": {
     "end_time": "2024-03-25T10:11:18.575421Z",
     "start_time": "2024-03-25T10:11:18.572258Z"
    }
   },
   "outputs": [],
   "source": [
    "import pandas as pd\n",
    "import matplotlib.pyplot as plt\n",
    "from pathlib import Path"
   ]
  },
  {
   "cell_type": "code",
   "outputs": [],
   "source": [
    "data_path = Path('../data')\n",
    "file_path = data_path / 'EP1.01.txt'\n",
    "\n",
    "columns = ['id', 'event_id', 'device', 'channel', 'code', 'size', 'data']\n",
    "data = pd.read_csv(file_path, delimiter='\\t', header=None, names=columns)"
   ],
   "metadata": {
    "collapsed": false,
    "ExecuteTime": {
     "end_time": "2024-03-25T10:11:41.197074Z",
     "start_time": "2024-03-25T10:11:19.481108Z"
    }
   },
   "id": "fe67f43365b98d99",
   "execution_count": 2
  },
  {
   "cell_type": "code",
   "outputs": [
    {
     "data": {
      "text/plain": "      id  event_id device channel  code  size  \\\n0  67635     67635     EP     AF3     6   260   \n1  67636     67635     EP      F7     6   260   \n2  67637     67635     EP      F3     6   260   \n3  67638     67635     EP     FC5     6   260   \n4  67639     67635     EP      T7     6   260   \n\n                                                data  \n0  4395.384615,4382.564102,4377.435897,4387.17948...  \n1  4489.230769,4475.384615,4474.358974,4486.66666...  \n2  4538.461538,4528.717948,4524.615384,4526.15384...  \n3  4207.692307,4205.641025,4200.512820,4194.35897...  \n4  4497.948717,4498.461538,4494.871794,4497.94871...  ",
      "text/html": "<div>\n<style scoped>\n    .dataframe tbody tr th:only-of-type {\n        vertical-align: middle;\n    }\n\n    .dataframe tbody tr th {\n        vertical-align: top;\n    }\n\n    .dataframe thead th {\n        text-align: right;\n    }\n</style>\n<table border=\"1\" class=\"dataframe\">\n  <thead>\n    <tr style=\"text-align: right;\">\n      <th></th>\n      <th>id</th>\n      <th>event_id</th>\n      <th>device</th>\n      <th>channel</th>\n      <th>code</th>\n      <th>size</th>\n      <th>data</th>\n    </tr>\n  </thead>\n  <tbody>\n    <tr>\n      <th>0</th>\n      <td>67635</td>\n      <td>67635</td>\n      <td>EP</td>\n      <td>AF3</td>\n      <td>6</td>\n      <td>260</td>\n      <td>4395.384615,4382.564102,4377.435897,4387.17948...</td>\n    </tr>\n    <tr>\n      <th>1</th>\n      <td>67636</td>\n      <td>67635</td>\n      <td>EP</td>\n      <td>F7</td>\n      <td>6</td>\n      <td>260</td>\n      <td>4489.230769,4475.384615,4474.358974,4486.66666...</td>\n    </tr>\n    <tr>\n      <th>2</th>\n      <td>67637</td>\n      <td>67635</td>\n      <td>EP</td>\n      <td>F3</td>\n      <td>6</td>\n      <td>260</td>\n      <td>4538.461538,4528.717948,4524.615384,4526.15384...</td>\n    </tr>\n    <tr>\n      <th>3</th>\n      <td>67638</td>\n      <td>67635</td>\n      <td>EP</td>\n      <td>FC5</td>\n      <td>6</td>\n      <td>260</td>\n      <td>4207.692307,4205.641025,4200.512820,4194.35897...</td>\n    </tr>\n    <tr>\n      <th>4</th>\n      <td>67639</td>\n      <td>67635</td>\n      <td>EP</td>\n      <td>T7</td>\n      <td>6</td>\n      <td>260</td>\n      <td>4497.948717,4498.461538,4494.871794,4497.94871...</td>\n    </tr>\n  </tbody>\n</table>\n</div>"
     },
     "execution_count": 3,
     "metadata": {},
     "output_type": "execute_result"
    }
   ],
   "source": [
    "data.head()"
   ],
   "metadata": {
    "collapsed": false,
    "ExecuteTime": {
     "end_time": "2024-03-25T10:11:41.206398Z",
     "start_time": "2024-03-25T10:11:41.198168Z"
    }
   },
   "id": "d6672117e8425e76",
   "execution_count": 3
  },
  {
   "cell_type": "code",
   "outputs": [],
   "source": [
    "def parse_data(data: str) -> list:\n",
    "    return list(map(float, data.split(',')))"
   ],
   "metadata": {
    "collapsed": false,
    "ExecuteTime": {
     "end_time": "2024-03-25T10:11:41.208703Z",
     "start_time": "2024-03-25T10:11:41.207088Z"
    }
   },
   "id": "5ea351f5465310f",
   "execution_count": 4
  },
  {
   "cell_type": "code",
   "outputs": [],
   "source": [
    "data.loc[:, 'data'] = data['data'].apply(parse_data)"
   ],
   "metadata": {
    "collapsed": false,
    "ExecuteTime": {
     "end_time": "2024-03-25T10:12:15.864431Z",
     "start_time": "2024-03-25T10:11:41.210129Z"
    }
   },
   "id": "56d6d44b9dfcc4c7",
   "execution_count": 5
  },
  {
   "cell_type": "code",
   "outputs": [
    {
     "data": {
      "text/plain": "      id  event_id device channel  code  size  \\\n0  67635     67635     EP     AF3     6   260   \n1  67636     67635     EP      F7     6   260   \n2  67637     67635     EP      F3     6   260   \n3  67638     67635     EP     FC5     6   260   \n4  67639     67635     EP      T7     6   260   \n\n                                                data  \n0  [4395.384615, 4382.564102, 4377.435897, 4387.1...  \n1  [4489.230769, 4475.384615, 4474.358974, 4486.6...  \n2  [4538.461538, 4528.717948, 4524.615384, 4526.1...  \n3  [4207.692307, 4205.641025, 4200.51282, 4194.35...  \n4  [4497.948717, 4498.461538, 4494.871794, 4497.9...  ",
      "text/html": "<div>\n<style scoped>\n    .dataframe tbody tr th:only-of-type {\n        vertical-align: middle;\n    }\n\n    .dataframe tbody tr th {\n        vertical-align: top;\n    }\n\n    .dataframe thead th {\n        text-align: right;\n    }\n</style>\n<table border=\"1\" class=\"dataframe\">\n  <thead>\n    <tr style=\"text-align: right;\">\n      <th></th>\n      <th>id</th>\n      <th>event_id</th>\n      <th>device</th>\n      <th>channel</th>\n      <th>code</th>\n      <th>size</th>\n      <th>data</th>\n    </tr>\n  </thead>\n  <tbody>\n    <tr>\n      <th>0</th>\n      <td>67635</td>\n      <td>67635</td>\n      <td>EP</td>\n      <td>AF3</td>\n      <td>6</td>\n      <td>260</td>\n      <td>[4395.384615, 4382.564102, 4377.435897, 4387.1...</td>\n    </tr>\n    <tr>\n      <th>1</th>\n      <td>67636</td>\n      <td>67635</td>\n      <td>EP</td>\n      <td>F7</td>\n      <td>6</td>\n      <td>260</td>\n      <td>[4489.230769, 4475.384615, 4474.358974, 4486.6...</td>\n    </tr>\n    <tr>\n      <th>2</th>\n      <td>67637</td>\n      <td>67635</td>\n      <td>EP</td>\n      <td>F3</td>\n      <td>6</td>\n      <td>260</td>\n      <td>[4538.461538, 4528.717948, 4524.615384, 4526.1...</td>\n    </tr>\n    <tr>\n      <th>3</th>\n      <td>67638</td>\n      <td>67635</td>\n      <td>EP</td>\n      <td>FC5</td>\n      <td>6</td>\n      <td>260</td>\n      <td>[4207.692307, 4205.641025, 4200.51282, 4194.35...</td>\n    </tr>\n    <tr>\n      <th>4</th>\n      <td>67639</td>\n      <td>67635</td>\n      <td>EP</td>\n      <td>T7</td>\n      <td>6</td>\n      <td>260</td>\n      <td>[4497.948717, 4498.461538, 4494.871794, 4497.9...</td>\n    </tr>\n  </tbody>\n</table>\n</div>"
     },
     "execution_count": 6,
     "metadata": {},
     "output_type": "execute_result"
    }
   ],
   "source": [
    "data.head()"
   ],
   "metadata": {
    "collapsed": false,
    "ExecuteTime": {
     "end_time": "2024-03-25T10:12:15.872568Z",
     "start_time": "2024-03-25T10:12:15.865717Z"
    }
   },
   "id": "c9935037762485aa",
   "execution_count": 6
  },
  {
   "cell_type": "markdown",
   "source": [
    "# 1. Autoencoder\n",
    "We'll break down the process into the following steps\n",
    "1. Preprocess the data - Normalize the EEG signal to have zero mean and unit variance\n",
    "2. Build the autoencoder - Define Autoencoder architecture\n",
    "3. Train the Autoencoder\n",
    "4. Feature extraction"
   ],
   "metadata": {
    "collapsed": false
   },
   "id": "ce1248c78adcd796"
  },
  {
   "cell_type": "markdown",
   "source": [
    "## 1. Preprocessing the Data "
   ],
   "metadata": {
    "collapsed": false
   },
   "id": "6f8c2d1ae68e5cbf"
  },
  {
   "cell_type": "code",
   "outputs": [],
   "source": [
    "from sklearn.preprocessing import MinMaxScaler\n",
    "import numpy as np\n",
    "scaler = MinMaxScaler()"
   ],
   "metadata": {
    "collapsed": false,
    "ExecuteTime": {
     "end_time": "2024-03-25T10:12:15.942912Z",
     "start_time": "2024-03-25T10:12:15.873493Z"
    }
   },
   "id": "b755957058de5e1f",
   "execution_count": 7
  },
  {
   "cell_type": "code",
   "outputs": [],
   "source": [
    "data.loc[:, 'normalized_data'] = data['data'].apply(lambda x: scaler.fit_transform(np.array(x).reshape(-1, 1)).flatten())"
   ],
   "metadata": {
    "collapsed": false,
    "ExecuteTime": {
     "end_time": "2024-03-25T10:13:29.350552Z",
     "start_time": "2024-03-25T10:12:15.943997Z"
    }
   },
   "id": "857f47f8885b18cc",
   "execution_count": 8
  },
  {
   "cell_type": "code",
   "outputs": [
    {
     "data": {
      "text/plain": "      id  event_id device channel  code  size  \\\n0  67635     67635     EP     AF3     6   260   \n1  67636     67635     EP      F7     6   260   \n2  67637     67635     EP      F3     6   260   \n3  67638     67635     EP     FC5     6   260   \n4  67639     67635     EP      T7     6   260   \n\n                                                data  \\\n0  [4395.384615, 4382.564102, 4377.435897, 4387.1...   \n1  [4489.230769, 4475.384615, 4474.358974, 4486.6...   \n2  [4538.461538, 4528.717948, 4524.615384, 4526.1...   \n3  [4207.692307, 4205.641025, 4200.51282, 4194.35...   \n4  [4497.948717, 4498.461538, 4494.871794, 4497.9...   \n\n                                     normalized_data  \n0  [0.8441558461291976, 0.5194805129026889, 0.389...  \n1  [0.4296875010711574, 0.2187499966674693, 0.203...  \n2  [0.945205480183887, 0.684931497701271, 0.57534...  \n3  [0.3440860178980216, 0.3010752656607565, 0.193...  \n4  [0.43749997714844824, 0.44999998903124094, 0.3...  ",
      "text/html": "<div>\n<style scoped>\n    .dataframe tbody tr th:only-of-type {\n        vertical-align: middle;\n    }\n\n    .dataframe tbody tr th {\n        vertical-align: top;\n    }\n\n    .dataframe thead th {\n        text-align: right;\n    }\n</style>\n<table border=\"1\" class=\"dataframe\">\n  <thead>\n    <tr style=\"text-align: right;\">\n      <th></th>\n      <th>id</th>\n      <th>event_id</th>\n      <th>device</th>\n      <th>channel</th>\n      <th>code</th>\n      <th>size</th>\n      <th>data</th>\n      <th>normalized_data</th>\n    </tr>\n  </thead>\n  <tbody>\n    <tr>\n      <th>0</th>\n      <td>67635</td>\n      <td>67635</td>\n      <td>EP</td>\n      <td>AF3</td>\n      <td>6</td>\n      <td>260</td>\n      <td>[4395.384615, 4382.564102, 4377.435897, 4387.1...</td>\n      <td>[0.8441558461291976, 0.5194805129026889, 0.389...</td>\n    </tr>\n    <tr>\n      <th>1</th>\n      <td>67636</td>\n      <td>67635</td>\n      <td>EP</td>\n      <td>F7</td>\n      <td>6</td>\n      <td>260</td>\n      <td>[4489.230769, 4475.384615, 4474.358974, 4486.6...</td>\n      <td>[0.4296875010711574, 0.2187499966674693, 0.203...</td>\n    </tr>\n    <tr>\n      <th>2</th>\n      <td>67637</td>\n      <td>67635</td>\n      <td>EP</td>\n      <td>F3</td>\n      <td>6</td>\n      <td>260</td>\n      <td>[4538.461538, 4528.717948, 4524.615384, 4526.1...</td>\n      <td>[0.945205480183887, 0.684931497701271, 0.57534...</td>\n    </tr>\n    <tr>\n      <th>3</th>\n      <td>67638</td>\n      <td>67635</td>\n      <td>EP</td>\n      <td>FC5</td>\n      <td>6</td>\n      <td>260</td>\n      <td>[4207.692307, 4205.641025, 4200.51282, 4194.35...</td>\n      <td>[0.3440860178980216, 0.3010752656607565, 0.193...</td>\n    </tr>\n    <tr>\n      <th>4</th>\n      <td>67639</td>\n      <td>67635</td>\n      <td>EP</td>\n      <td>T7</td>\n      <td>6</td>\n      <td>260</td>\n      <td>[4497.948717, 4498.461538, 4494.871794, 4497.9...</td>\n      <td>[0.43749997714844824, 0.44999998903124094, 0.3...</td>\n    </tr>\n  </tbody>\n</table>\n</div>"
     },
     "execution_count": 9,
     "metadata": {},
     "output_type": "execute_result"
    }
   ],
   "source": [
    "data.head()"
   ],
   "metadata": {
    "collapsed": false,
    "ExecuteTime": {
     "end_time": "2024-03-25T10:13:29.368726Z",
     "start_time": "2024-03-25T10:13:29.352120Z"
    }
   },
   "id": "f25b04ab4b4791ea",
   "execution_count": 9
  },
  {
   "cell_type": "markdown",
   "source": [
    "What we essentially did here was to transform the data such that its range would be between 0 and 1. This is a common preprocessing step in machine learning, as it helps to ensure that all features contribute equally to the model and are on a similar scale. Normalizing the data can also help to improve the convergence of optimization algorithms and the overall performance of the model."
   ],
   "metadata": {
    "collapsed": false
   },
   "id": "13d1ba4c3919b8c"
  },
  {
   "cell_type": "markdown",
   "source": [
    "## 2. Building the autoencoder\n",
    "\n",
    "Building an autoencoder involves defining both an encoder and a decoder. The encoder compresses the input data into a lower-dimensional representation, and the decoder attempts to reconstruct the original input data from this compressed representation. Autoencoders are trained to minimize the reconstruction error, often using mean squared error (MSE) or a similar loss function."
   ],
   "metadata": {
    "collapsed": false
   },
   "id": "c37da7db2dd2de1f"
  },
  {
   "cell_type": "code",
   "outputs": [],
   "source": [
    "import torch\n",
    "from torch import nn"
   ],
   "metadata": {
    "collapsed": false,
    "ExecuteTime": {
     "end_time": "2024-03-25T10:13:36.160081Z",
     "start_time": "2024-03-25T10:13:29.369865Z"
    }
   },
   "id": "f711ab843e591512",
   "execution_count": 10
  },
  {
   "cell_type": "code",
   "outputs": [],
   "source": [
    "class SimpleAutoencoder(nn.Module):\n",
    "    def __init__(self, input_size):\n",
    "        super(SimpleAutoencoder, self).__init__()\n",
    "        # Encoder: Linear layer reducing dimensionality from input_size to a compressed representation\n",
    "        self.encoder = nn.Sequential(\n",
    "            nn.Linear(input_size, 128),\n",
    "            nn.ReLU(),\n",
    "            nn.Linear(128, 64),\n",
    "            nn.ReLU(),\n",
    "            nn.Linear(64, 12),  # Compressed representation\n",
    "            nn.ReLU()\n",
    "        )\n",
    "        # Decoder: Linear layer reconstructing the original input from the compressed representation\n",
    "        self.decoder = nn.Sequential(\n",
    "            nn.Linear(12, 64),\n",
    "            nn.ReLU(),\n",
    "            nn.Linear(64, 128),\n",
    "            nn.ReLU(),\n",
    "            nn.Linear(128, input_size),\n",
    "            nn.Sigmoid()\n",
    "        )\n",
    "\n",
    "    def forward(self, x):\n",
    "        x = self.encoder(x)\n",
    "        x = self.decoder(x)\n",
    "        return x"
   ],
   "metadata": {
    "collapsed": false,
    "ExecuteTime": {
     "end_time": "2024-03-25T10:13:36.165500Z",
     "start_time": "2024-03-25T10:13:36.162156Z"
    }
   },
   "id": "ec0cf9d6a259a8fe",
   "execution_count": 11
  },
  {
   "cell_type": "markdown",
   "source": [
    "Check the length of all the inputs we have in column \"size\""
   ],
   "metadata": {
    "collapsed": false
   },
   "id": "4d5d62bc2dacd289"
  },
  {
   "cell_type": "code",
   "outputs": [
    {
     "data": {
      "text/plain": "array([260, 256, 264, 261, 252, 257, 248, 272, 268, 265, 249, 253, 204,\n       320, 269, 276, 244, 273, 196, 228, 292, 224, 280, 212, 232, 240,\n       284, 136])"
     },
     "execution_count": 12,
     "metadata": {},
     "output_type": "execute_result"
    }
   ],
   "source": [
    "data['size'].unique()"
   ],
   "metadata": {
    "collapsed": false,
    "ExecuteTime": {
     "end_time": "2024-03-25T10:13:36.175244Z",
     "start_time": "2024-03-25T10:13:36.166387Z"
    }
   },
   "id": "e0e6ff748d6fd894",
   "execution_count": 12
  },
  {
   "cell_type": "markdown",
   "source": [
    "Looks like we have lots of different sizes, lets find the mean size and cut everything to it."
   ],
   "metadata": {
    "collapsed": false
   },
   "id": "67494189ef2553b1"
  },
  {
   "cell_type": "code",
   "outputs": [
    {
     "data": {
      "text/plain": "count    910476.000000\nmean        259.511901\nstd           2.319790\nmin         136.000000\n25%         260.000000\n50%         260.000000\n75%         260.000000\nmax         320.000000\nName: size, dtype: float64"
     },
     "execution_count": 13,
     "metadata": {},
     "output_type": "execute_result"
    }
   ],
   "source": [
    "data['size'].describe()"
   ],
   "metadata": {
    "collapsed": false,
    "ExecuteTime": {
     "end_time": "2024-03-25T10:13:36.192518Z",
     "start_time": "2024-03-25T10:13:36.175917Z"
    }
   },
   "id": "ebd8f4dd338df309",
   "execution_count": 13
  },
  {
   "cell_type": "code",
   "outputs": [
    {
     "data": {
      "text/plain": "count    606214.0\nmean        260.0\nstd           0.0\nmin         260.0\n25%         260.0\n50%         260.0\n75%         260.0\nmax         260.0\nName: size, dtype: float64"
     },
     "execution_count": 14,
     "metadata": {},
     "output_type": "execute_result"
    }
   ],
   "source": [
    "filtered_data = data[data['size'] == 260]\n",
    "filtered_data['size'].describe()"
   ],
   "metadata": {
    "collapsed": false,
    "ExecuteTime": {
     "end_time": "2024-03-25T10:13:36.287549Z",
     "start_time": "2024-03-25T10:13:36.193287Z"
    }
   },
   "id": "509653daa5d77875",
   "execution_count": 14
  },
  {
   "cell_type": "code",
   "outputs": [],
   "source": [
    "input_size = filtered_data['size'].unique()[0]\n",
    "autoencoder = SimpleAutoencoder(input_size)"
   ],
   "metadata": {
    "collapsed": false,
    "ExecuteTime": {
     "end_time": "2024-03-25T10:13:36.299144Z",
     "start_time": "2024-03-25T10:13:36.288338Z"
    }
   },
   "id": "484390e1bf7a623",
   "execution_count": 15
  },
  {
   "cell_type": "markdown",
   "source": [
    "## 3. Training the Autoencoder\n",
    "We'll start by creating a dataloader from the dataset we have"
   ],
   "metadata": {
    "collapsed": false
   },
   "id": "f340c052463ec704"
  },
  {
   "cell_type": "code",
   "outputs": [
    {
     "data": {
      "text/plain": "0         [0.8441558461291976, 0.5194805129026889, 0.389...\n1         [0.4296875010711574, 0.2187499966674693, 0.203...\n2         [0.945205480183887, 0.684931497701271, 0.57534...\n3         [0.3440860178980216, 0.3010752656607565, 0.193...\n4         [0.43749997714844824, 0.44999998903124094, 0.3...\n                                ...                        \n908217    [0.8699187022803727, 0.8943089535296451, 0.666...\n908218    [0.7868852493079856, 0.7540983645861274, 0.344...\n908219    [0.6814159374500832, 0.707964600700933, 0.5044...\n908220    [0.846715338856626, 0.9270073008284925, 0.7372...\n908221    [0.9819819824567873, 0.9909909824446146, 0.756...\nName: normalized_data, Length: 606214, dtype: object"
     },
     "execution_count": 16,
     "metadata": {},
     "output_type": "execute_result"
    }
   ],
   "source": [
    "filtered_data['normalized_data']"
   ],
   "metadata": {
    "collapsed": false,
    "ExecuteTime": {
     "end_time": "2024-03-25T10:13:36.306003Z",
     "start_time": "2024-03-25T10:13:36.299893Z"
    }
   },
   "id": "12fb38062fcd5adb",
   "execution_count": 16
  },
  {
   "cell_type": "code",
   "outputs": [],
   "source": [
    "from torch.utils.data import Dataset, DataLoader\n",
    "import torch"
   ],
   "metadata": {
    "collapsed": false,
    "ExecuteTime": {
     "end_time": "2024-03-25T10:13:36.310Z",
     "start_time": "2024-03-25T10:13:36.307057Z"
    }
   },
   "id": "801027296d8f3284",
   "execution_count": 17
  },
  {
   "cell_type": "code",
   "outputs": [],
   "source": [
    "class EEGDataset(Dataset):\n",
    "    def __init__(self, dataframe: pd.DataFrame):\n",
    "        self.data = list(dataframe['normalized_data'])\n",
    "        \n",
    "    def __len__(self):\n",
    "        return len(self.data)\n",
    "    \n",
    "    def __getitem__(self, idx):\n",
    "        sample = self.data[idx]\n",
    "        sample = torch.tensor(sample, dtype=torch.float)\n",
    "        return sample\n",
    "    \n",
    "dataset = EEGDataset(filtered_data)\n",
    "dataloader = DataLoader(dataset, batch_size=64, shuffle=True)"
   ],
   "metadata": {
    "collapsed": false,
    "ExecuteTime": {
     "end_time": "2024-03-25T10:13:36.337039Z",
     "start_time": "2024-03-25T10:13:36.310769Z"
    }
   },
   "id": "b6218be7f2fcfc0",
   "execution_count": 18
  },
  {
   "cell_type": "markdown",
   "source": [
    "Now we will set our device agnostic and run some epochs on the data and train the model"
   ],
   "metadata": {
    "collapsed": false
   },
   "id": "fa3e587124f80571"
  },
  {
   "cell_type": "code",
   "outputs": [
    {
     "name": "stdout",
     "output_type": "stream",
     "text": [
      "Epoch [1/20], Loss: 0.0155\n",
      "Epoch [2/20], Loss: 0.0203\n",
      "Epoch [3/20], Loss: 0.0138\n",
      "Epoch [4/20], Loss: 0.0226\n",
      "Epoch [5/20], Loss: 0.0192\n",
      "Epoch [6/20], Loss: 0.0130\n",
      "Epoch [7/20], Loss: 0.0195\n",
      "Epoch [8/20], Loss: 0.0170\n",
      "Epoch [9/20], Loss: 0.0107\n",
      "Epoch [10/20], Loss: 0.0133\n",
      "Epoch [11/20], Loss: 0.0188\n",
      "Epoch [12/20], Loss: 0.0139\n",
      "Epoch [13/20], Loss: 0.0135\n",
      "Epoch [14/20], Loss: 0.0210\n",
      "Epoch [15/20], Loss: 0.0114\n",
      "Epoch [16/20], Loss: 0.0132\n",
      "Epoch [17/20], Loss: 0.0133\n",
      "Epoch [18/20], Loss: 0.0155\n",
      "Epoch [19/20], Loss: 0.0199\n",
      "Epoch [20/20], Loss: 0.0163\n"
     ]
    }
   ],
   "source": [
    "device = 'cpu'\n",
    "# Check if device is mps or Cuda\n",
    "if torch.cuda.is_available():\n",
    "    device = 'cuda'\n",
    "elif torch.backends.mps.is_available():\n",
    "    device = 'mps'\n",
    "\n",
    "autoencoder.to(device)\n",
    "criterion = nn.MSELoss()\n",
    "optimizer = torch.optim.Adam(autoencoder.parameters(), lr=0.001)\n",
    "\n",
    "num_epochs = 20\n",
    "loss = None\n",
    "for epoch in range(num_epochs):\n",
    "    for data in dataloader:\n",
    "        data = data.to(device)\n",
    "        reconstructed = autoencoder(data)\n",
    "        loss = criterion(reconstructed, data)\n",
    "        \n",
    "        optimizer.zero_grad()\n",
    "        loss.backward()\n",
    "        optimizer.step()\n",
    "    print(f'Epoch [{epoch+1}/{num_epochs}], Loss: {loss.item():.4f}')"
   ],
   "metadata": {
    "collapsed": false,
    "ExecuteTime": {
     "end_time": "2024-03-25T10:23:14.808758Z",
     "start_time": "2024-03-25T10:13:36.338068Z"
    }
   },
   "id": "e073d0afcc039a0f",
   "execution_count": 19
  },
  {
   "cell_type": "markdown",
   "source": [
    "## 4. Extracting Features"
   ],
   "metadata": {
    "collapsed": false
   },
   "id": "d09016c4df10bcf"
  },
  {
   "cell_type": "code",
   "outputs": [],
   "source": [
    "features = []\n",
    "for data in DataLoader(dataset, batch_size=64, shuffle=False):\n",
    "    data = data.to(device)\n",
    "    feature = autoencoder.encoder(data)\n",
    "    features.append(feature.cpu().detach().numpy())\n",
    "\n",
    "# Concatenate all features to get the full feature matrix\n",
    "features = np.concatenate(features, axis=0)"
   ],
   "metadata": {
    "collapsed": false,
    "ExecuteTime": {
     "end_time": "2024-03-25T10:24:26.108790Z",
     "start_time": "2024-03-25T10:24:20.056595Z"
    }
   },
   "id": "ddcafca08f643c45",
   "execution_count": 20
  },
  {
   "cell_type": "code",
   "outputs": [
    {
     "data": {
      "text/plain": "array([[0.7446833 , 1.0197172 , 0.        , ..., 0.6929073 , 0.8318233 ,\n        1.1829625 ],\n       [1.328233  , 0.5220584 , 0.        , ..., 0.622978  , 0.703767  ,\n        1.3462029 ],\n       [0.83387864, 1.1196021 , 0.        , ..., 0.9277895 , 0.75806546,\n        1.1536936 ],\n       ...,\n       [1.1984265 , 0.6803893 , 0.        , ..., 0.72096837, 0.5486329 ,\n        1.2915742 ],\n       [0.982052  , 0.91261685, 0.        , ..., 0.6064304 , 0.6889183 ,\n        1.4587922 ],\n       [1.0606124 , 0.87201345, 0.        , ..., 0.5124967 , 0.61672145,\n        1.3320158 ]], dtype=float32)"
     },
     "execution_count": 21,
     "metadata": {},
     "output_type": "execute_result"
    }
   ],
   "source": [
    "features"
   ],
   "metadata": {
    "collapsed": false,
    "ExecuteTime": {
     "end_time": "2024-03-25T10:24:28.714488Z",
     "start_time": "2024-03-25T10:24:28.709066Z"
    }
   },
   "id": "b9e1e19275c2d387",
   "execution_count": 21
  },
  {
   "cell_type": "code",
   "outputs": [],
   "source": [
    "import pandas as pd\n",
    "features_df = pd.DataFrame(features)\n",
    "\n",
    "features_df.index = filtered_data.index\n",
    "\n",
    "features_df = features_df.add_prefix('feature_')\n",
    "\n",
    "enhanced_data = pd.concat([filtered_data, features_df], axis=1)"
   ],
   "metadata": {
    "collapsed": false,
    "ExecuteTime": {
     "end_time": "2024-03-25T10:24:35.029071Z",
     "start_time": "2024-03-25T10:24:34.803931Z"
    }
   },
   "id": "eea23d33bfb5438a",
   "execution_count": 22
  },
  {
   "cell_type": "code",
   "outputs": [
    {
     "data": {
      "text/plain": "      id  event_id device channel  code  size  \\\n0  67635     67635     EP     AF3     6   260   \n1  67636     67635     EP      F7     6   260   \n2  67637     67635     EP      F3     6   260   \n3  67638     67635     EP     FC5     6   260   \n4  67639     67635     EP      T7     6   260   \n\n                                                data  \\\n0  [4395.384615, 4382.564102, 4377.435897, 4387.1...   \n1  [4489.230769, 4475.384615, 4474.358974, 4486.6...   \n2  [4538.461538, 4528.717948, 4524.615384, 4526.1...   \n3  [4207.692307, 4205.641025, 4200.51282, 4194.35...   \n4  [4497.948717, 4498.461538, 4494.871794, 4497.9...   \n\n                                     normalized_data  feature_0  feature_1  \\\n0  [0.8441558461291976, 0.5194805129026889, 0.389...   0.744683   1.019717   \n1  [0.4296875010711574, 0.2187499966674693, 0.203...   1.328233   0.522058   \n2  [0.945205480183887, 0.684931497701271, 0.57534...   0.833879   1.119602   \n3  [0.3440860178980216, 0.3010752656607565, 0.193...   0.579244   0.710636   \n4  [0.43749997714844824, 0.44999998903124094, 0.3...   0.755086   0.806043   \n\n   feature_2  feature_3  feature_4  feature_5  feature_6  feature_7  \\\n0        0.0        0.0   0.759063   0.941369   1.030296   1.128954   \n1        0.0        0.0   0.677633   0.853899   0.722285   0.706722   \n2        0.0        0.0   0.935851   0.815357   1.122367   1.101907   \n3        0.0        0.0   0.893642   0.679314   0.980356   0.703967   \n4        0.0        0.0   0.689965   0.589381   1.001275   0.734863   \n\n   feature_8  feature_9  feature_10  feature_11  \n0        0.0   0.692907    0.831823    1.182963  \n1        0.0   0.622978    0.703767    1.346203  \n2        0.0   0.927790    0.758065    1.153694  \n3        0.0   0.574136    0.882578    1.157292  \n4        0.0   0.867773    0.835718    0.840352  ",
      "text/html": "<div>\n<style scoped>\n    .dataframe tbody tr th:only-of-type {\n        vertical-align: middle;\n    }\n\n    .dataframe tbody tr th {\n        vertical-align: top;\n    }\n\n    .dataframe thead th {\n        text-align: right;\n    }\n</style>\n<table border=\"1\" class=\"dataframe\">\n  <thead>\n    <tr style=\"text-align: right;\">\n      <th></th>\n      <th>id</th>\n      <th>event_id</th>\n      <th>device</th>\n      <th>channel</th>\n      <th>code</th>\n      <th>size</th>\n      <th>data</th>\n      <th>normalized_data</th>\n      <th>feature_0</th>\n      <th>feature_1</th>\n      <th>feature_2</th>\n      <th>feature_3</th>\n      <th>feature_4</th>\n      <th>feature_5</th>\n      <th>feature_6</th>\n      <th>feature_7</th>\n      <th>feature_8</th>\n      <th>feature_9</th>\n      <th>feature_10</th>\n      <th>feature_11</th>\n    </tr>\n  </thead>\n  <tbody>\n    <tr>\n      <th>0</th>\n      <td>67635</td>\n      <td>67635</td>\n      <td>EP</td>\n      <td>AF3</td>\n      <td>6</td>\n      <td>260</td>\n      <td>[4395.384615, 4382.564102, 4377.435897, 4387.1...</td>\n      <td>[0.8441558461291976, 0.5194805129026889, 0.389...</td>\n      <td>0.744683</td>\n      <td>1.019717</td>\n      <td>0.0</td>\n      <td>0.0</td>\n      <td>0.759063</td>\n      <td>0.941369</td>\n      <td>1.030296</td>\n      <td>1.128954</td>\n      <td>0.0</td>\n      <td>0.692907</td>\n      <td>0.831823</td>\n      <td>1.182963</td>\n    </tr>\n    <tr>\n      <th>1</th>\n      <td>67636</td>\n      <td>67635</td>\n      <td>EP</td>\n      <td>F7</td>\n      <td>6</td>\n      <td>260</td>\n      <td>[4489.230769, 4475.384615, 4474.358974, 4486.6...</td>\n      <td>[0.4296875010711574, 0.2187499966674693, 0.203...</td>\n      <td>1.328233</td>\n      <td>0.522058</td>\n      <td>0.0</td>\n      <td>0.0</td>\n      <td>0.677633</td>\n      <td>0.853899</td>\n      <td>0.722285</td>\n      <td>0.706722</td>\n      <td>0.0</td>\n      <td>0.622978</td>\n      <td>0.703767</td>\n      <td>1.346203</td>\n    </tr>\n    <tr>\n      <th>2</th>\n      <td>67637</td>\n      <td>67635</td>\n      <td>EP</td>\n      <td>F3</td>\n      <td>6</td>\n      <td>260</td>\n      <td>[4538.461538, 4528.717948, 4524.615384, 4526.1...</td>\n      <td>[0.945205480183887, 0.684931497701271, 0.57534...</td>\n      <td>0.833879</td>\n      <td>1.119602</td>\n      <td>0.0</td>\n      <td>0.0</td>\n      <td>0.935851</td>\n      <td>0.815357</td>\n      <td>1.122367</td>\n      <td>1.101907</td>\n      <td>0.0</td>\n      <td>0.927790</td>\n      <td>0.758065</td>\n      <td>1.153694</td>\n    </tr>\n    <tr>\n      <th>3</th>\n      <td>67638</td>\n      <td>67635</td>\n      <td>EP</td>\n      <td>FC5</td>\n      <td>6</td>\n      <td>260</td>\n      <td>[4207.692307, 4205.641025, 4200.51282, 4194.35...</td>\n      <td>[0.3440860178980216, 0.3010752656607565, 0.193...</td>\n      <td>0.579244</td>\n      <td>0.710636</td>\n      <td>0.0</td>\n      <td>0.0</td>\n      <td>0.893642</td>\n      <td>0.679314</td>\n      <td>0.980356</td>\n      <td>0.703967</td>\n      <td>0.0</td>\n      <td>0.574136</td>\n      <td>0.882578</td>\n      <td>1.157292</td>\n    </tr>\n    <tr>\n      <th>4</th>\n      <td>67639</td>\n      <td>67635</td>\n      <td>EP</td>\n      <td>T7</td>\n      <td>6</td>\n      <td>260</td>\n      <td>[4497.948717, 4498.461538, 4494.871794, 4497.9...</td>\n      <td>[0.43749997714844824, 0.44999998903124094, 0.3...</td>\n      <td>0.755086</td>\n      <td>0.806043</td>\n      <td>0.0</td>\n      <td>0.0</td>\n      <td>0.689965</td>\n      <td>0.589381</td>\n      <td>1.001275</td>\n      <td>0.734863</td>\n      <td>0.0</td>\n      <td>0.867773</td>\n      <td>0.835718</td>\n      <td>0.840352</td>\n    </tr>\n  </tbody>\n</table>\n</div>"
     },
     "execution_count": 23,
     "metadata": {},
     "output_type": "execute_result"
    }
   ],
   "source": [
    "enhanced_data.head()"
   ],
   "metadata": {
    "collapsed": false,
    "ExecuteTime": {
     "end_time": "2024-03-25T10:24:35.937983Z",
     "start_time": "2024-03-25T10:24:35.920498Z"
    }
   },
   "id": "6cd95a41f706cc77",
   "execution_count": 23
  },
  {
   "cell_type": "markdown",
   "source": [
    "# 2. Mutual Information\n",
    "In this part we will check which of the features (That we selected from the autoencoder) are the most important for the target variable."
   ],
   "metadata": {
    "collapsed": false
   },
   "id": "735d551aa749429c"
  },
  {
   "cell_type": "code",
   "outputs": [
    {
     "data": {
      "text/plain": "feature_5     0.002282\nfeature_11    0.001673\nfeature_6     0.001060\nfeature_0     0.000915\nfeature_1     0.000806\nfeature_10    0.000028\nfeature_2     0.000000\nfeature_3     0.000000\nfeature_4     0.000000\nfeature_7     0.000000\nfeature_8     0.000000\nfeature_9     0.000000\ndtype: float64"
     },
     "execution_count": 24,
     "metadata": {},
     "output_type": "execute_result"
    }
   ],
   "source": [
    "from sklearn.feature_selection import mutual_info_regression\n",
    "\n",
    "# Selecting the features and target variable\n",
    "X = enhanced_data.drop(columns=['id', 'event_id', 'device', 'channel', 'code', 'size', 'data', 'normalized_data'])\n",
    "y = enhanced_data['code']\n",
    "\n",
    "# Calculating the mutual information\n",
    "mi = mutual_info_regression(X, y)\n",
    "mi = pd.Series(mi, index=X.columns)\n",
    "mi = mi.sort_values(ascending=False)\n",
    "mi"
   ],
   "metadata": {
    "collapsed": false,
    "ExecuteTime": {
     "end_time": "2024-03-25T10:25:16.052906Z",
     "start_time": "2024-03-25T10:24:44.310633Z"
    }
   },
   "id": "2d6466a3248ad5ca",
   "execution_count": 24
  },
  {
   "cell_type": "markdown",
   "source": [
    "From these results we can clearly see that the feature_0 is the most important feature for the target variable. This is a powerful insight, as it allows us to focus on the most relevant features when building our predictive model. By understanding which features are most informative, we can potentially improve the performance of our model and gain deeper insights into the underlying patterns in the data."
   ],
   "metadata": {
    "collapsed": false
   },
   "id": "3dad78a5e9c9d979"
  },
  {
   "cell_type": "markdown",
   "source": [
    "# 3. PCA (Principal Component Analysis)\n",
    "In this part we will use PCA to reduce the dimensionality of the data and extract the most important components. This will help us to visualize the data in a lower-dimensional space and identify the key patterns and relationships within the data."
   ],
   "metadata": {
    "collapsed": false
   },
   "id": "fa17bf8dbb634160"
  },
  {
   "cell_type": "code",
   "outputs": [
    {
     "data": {
      "text/plain": "      id  event_id device channel  code  size  \\\n0  67635     67635     EP     AF3     6   260   \n1  67636     67635     EP      F7     6   260   \n2  67637     67635     EP      F3     6   260   \n3  67638     67635     EP     FC5     6   260   \n4  67639     67635     EP      T7     6   260   \n\n                                                data  \\\n0  [4395.384615, 4382.564102, 4377.435897, 4387.1...   \n1  [4489.230769, 4475.384615, 4474.358974, 4486.6...   \n2  [4538.461538, 4528.717948, 4524.615384, 4526.1...   \n3  [4207.692307, 4205.641025, 4200.51282, 4194.35...   \n4  [4497.948717, 4498.461538, 4494.871794, 4497.9...   \n\n                                     normalized_data  feature_0  feature_1  \\\n0  [0.8441558461291976, 0.5194805129026889, 0.389...   0.744683   1.019717   \n1  [0.4296875010711574, 0.2187499966674693, 0.203...   1.328233   0.522058   \n2  [0.945205480183887, 0.684931497701271, 0.57534...   0.833879   1.119602   \n3  [0.3440860178980216, 0.3010752656607565, 0.193...   0.579244   0.710636   \n4  [0.43749997714844824, 0.44999998903124094, 0.3...   0.755086   0.806043   \n\n   ...      PCA2      PCA3      PCA4      PCA5      PCA6      PCA7      PCA8  \\\n0  ... -0.206331 -0.015859 -0.280363  0.249040  0.309885 -0.074663  0.054720   \n1  ...  0.456196  0.111508  0.053692 -0.277887  0.332281  0.033797 -0.211985   \n2  ... -0.296894 -0.195174 -0.394672  0.017065  0.273719 -0.183157  0.147437   \n3  ...  0.030089 -0.139138  0.102751  0.197387 -0.103275  0.012725  0.171528   \n4  ... -0.288078 -0.172381  0.239058 -0.086440  0.170820  0.035641  0.198398   \n\n       PCA9         PCA10         PCA11  \n0  0.067630 -4.706660e-09  2.172482e-09  \n1  0.055549  3.166768e-10  3.604087e-09  \n2  0.116440  3.210145e-06  1.558662e-06  \n3  0.097001  3.798111e-06 -1.317410e-06  \n4  0.106037 -2.061212e-11  2.440442e-12  \n\n[5 rows x 31 columns]",
      "text/html": "<div>\n<style scoped>\n    .dataframe tbody tr th:only-of-type {\n        vertical-align: middle;\n    }\n\n    .dataframe tbody tr th {\n        vertical-align: top;\n    }\n\n    .dataframe thead th {\n        text-align: right;\n    }\n</style>\n<table border=\"1\" class=\"dataframe\">\n  <thead>\n    <tr style=\"text-align: right;\">\n      <th></th>\n      <th>id</th>\n      <th>event_id</th>\n      <th>device</th>\n      <th>channel</th>\n      <th>code</th>\n      <th>size</th>\n      <th>data</th>\n      <th>normalized_data</th>\n      <th>feature_0</th>\n      <th>feature_1</th>\n      <th>...</th>\n      <th>PCA2</th>\n      <th>PCA3</th>\n      <th>PCA4</th>\n      <th>PCA5</th>\n      <th>PCA6</th>\n      <th>PCA7</th>\n      <th>PCA8</th>\n      <th>PCA9</th>\n      <th>PCA10</th>\n      <th>PCA11</th>\n    </tr>\n  </thead>\n  <tbody>\n    <tr>\n      <th>0</th>\n      <td>67635</td>\n      <td>67635</td>\n      <td>EP</td>\n      <td>AF3</td>\n      <td>6</td>\n      <td>260</td>\n      <td>[4395.384615, 4382.564102, 4377.435897, 4387.1...</td>\n      <td>[0.8441558461291976, 0.5194805129026889, 0.389...</td>\n      <td>0.744683</td>\n      <td>1.019717</td>\n      <td>...</td>\n      <td>-0.206331</td>\n      <td>-0.015859</td>\n      <td>-0.280363</td>\n      <td>0.249040</td>\n      <td>0.309885</td>\n      <td>-0.074663</td>\n      <td>0.054720</td>\n      <td>0.067630</td>\n      <td>-4.706660e-09</td>\n      <td>2.172482e-09</td>\n    </tr>\n    <tr>\n      <th>1</th>\n      <td>67636</td>\n      <td>67635</td>\n      <td>EP</td>\n      <td>F7</td>\n      <td>6</td>\n      <td>260</td>\n      <td>[4489.230769, 4475.384615, 4474.358974, 4486.6...</td>\n      <td>[0.4296875010711574, 0.2187499966674693, 0.203...</td>\n      <td>1.328233</td>\n      <td>0.522058</td>\n      <td>...</td>\n      <td>0.456196</td>\n      <td>0.111508</td>\n      <td>0.053692</td>\n      <td>-0.277887</td>\n      <td>0.332281</td>\n      <td>0.033797</td>\n      <td>-0.211985</td>\n      <td>0.055549</td>\n      <td>3.166768e-10</td>\n      <td>3.604087e-09</td>\n    </tr>\n    <tr>\n      <th>2</th>\n      <td>67637</td>\n      <td>67635</td>\n      <td>EP</td>\n      <td>F3</td>\n      <td>6</td>\n      <td>260</td>\n      <td>[4538.461538, 4528.717948, 4524.615384, 4526.1...</td>\n      <td>[0.945205480183887, 0.684931497701271, 0.57534...</td>\n      <td>0.833879</td>\n      <td>1.119602</td>\n      <td>...</td>\n      <td>-0.296894</td>\n      <td>-0.195174</td>\n      <td>-0.394672</td>\n      <td>0.017065</td>\n      <td>0.273719</td>\n      <td>-0.183157</td>\n      <td>0.147437</td>\n      <td>0.116440</td>\n      <td>3.210145e-06</td>\n      <td>1.558662e-06</td>\n    </tr>\n    <tr>\n      <th>3</th>\n      <td>67638</td>\n      <td>67635</td>\n      <td>EP</td>\n      <td>FC5</td>\n      <td>6</td>\n      <td>260</td>\n      <td>[4207.692307, 4205.641025, 4200.51282, 4194.35...</td>\n      <td>[0.3440860178980216, 0.3010752656607565, 0.193...</td>\n      <td>0.579244</td>\n      <td>0.710636</td>\n      <td>...</td>\n      <td>0.030089</td>\n      <td>-0.139138</td>\n      <td>0.102751</td>\n      <td>0.197387</td>\n      <td>-0.103275</td>\n      <td>0.012725</td>\n      <td>0.171528</td>\n      <td>0.097001</td>\n      <td>3.798111e-06</td>\n      <td>-1.317410e-06</td>\n    </tr>\n    <tr>\n      <th>4</th>\n      <td>67639</td>\n      <td>67635</td>\n      <td>EP</td>\n      <td>T7</td>\n      <td>6</td>\n      <td>260</td>\n      <td>[4497.948717, 4498.461538, 4494.871794, 4497.9...</td>\n      <td>[0.43749997714844824, 0.44999998903124094, 0.3...</td>\n      <td>0.755086</td>\n      <td>0.806043</td>\n      <td>...</td>\n      <td>-0.288078</td>\n      <td>-0.172381</td>\n      <td>0.239058</td>\n      <td>-0.086440</td>\n      <td>0.170820</td>\n      <td>0.035641</td>\n      <td>0.198398</td>\n      <td>0.106037</td>\n      <td>-2.061212e-11</td>\n      <td>2.440442e-12</td>\n    </tr>\n  </tbody>\n</table>\n<p>5 rows × 31 columns</p>\n</div>"
     },
     "execution_count": 28,
     "metadata": {},
     "output_type": "execute_result"
    }
   ],
   "source": [
    "from sklearn.decomposition import PCA\n",
    "\n",
    "# Fit PCA to the features\n",
    "pca = PCA(n_components=11) # We have 0-9 numbers shown to subject and (-1) for random signal (Total 11)\n",
    "pca_features = pca.fit_transform(X)\n",
    "\n",
    "# Create a DataFrame with the PCA features\n",
    "pca_df = pd.DataFrame(data=pca_features, columns=['PCA1', 'PCA2', 'PCA3', 'PCA4', 'PCA5', 'PCA6', 'PCA7', 'PCA8', 'PCA9', 'PCA10', 'PCA11'])\n",
    "pca_df.index = X.index\n",
    "\n",
    "# Concatenate the PCA features with the original data\n",
    "pca_data = pd.concat([enhanced_data, pca_df], axis=1)\n",
    "pca_data.head()"
   ],
   "metadata": {
    "collapsed": false,
    "ExecuteTime": {
     "end_time": "2024-03-25T10:35:27.971796Z",
     "start_time": "2024-03-25T10:35:27.709685Z"
    }
   },
   "id": "66652959c3f897a8",
   "execution_count": 28
  },
  {
   "cell_type": "code",
   "outputs": [
    {
     "data": {
      "text/plain": "<Figure size 1000x600 with 1 Axes>",
      "image/png": "[encoded data removed]"
     },
     "metadata": {},
     "output_type": "display_data"
    }
   ],
   "source": [
    "# Plot the explained variance ratio\n",
    "plt.figure(figsize=(10, 6))\n",
    "plt.plot(np.cumsum(pca.explained_variance_ratio_))\n",
    "plt.xlabel('Number of Components')\n",
    "plt.ylabel('Cumulative Explained Variance')\n",
    "plt.title('Explained Variance Ratio by Number of Components')\n",
    "plt.show()"
   ],
   "metadata": {
    "collapsed": false,
    "ExecuteTime": {
     "end_time": "2024-03-25T10:40:46.724730Z",
     "start_time": "2024-03-25T10:40:46.599736Z"
    }
   },
   "id": "9229559e4fced803",
   "execution_count": 32
  },
  {
   "cell_type": "markdown",
   "source": [
    "We see that the first 11 components explain almost 100% of the variance in the data. This means that we can effectively represent the data in a lower-dimensional space while retaining most of the information. By using PCA, we can reduce the dimensionality of the data, improve computational efficiency, and potentially enhance the performance of our predictive model."
   ],
   "metadata": {
    "collapsed": false
   },
   "id": "e823eb399cc9743b"
  },
  {
   "cell_type": "markdown",
   "source": [
    "# 4. Random Forest\n",
    "The final feature extraction method we'll explore is Random Forest. We'll train a Random Forest model on the data and examine the feature importances attributed by the model. This will help us to identify which features are most influential in predicting the target variable and gain insights into the underlying patterns in the data."
   ],
   "metadata": {
    "collapsed": false
   },
   "id": "d6d7caa1fb947584"
  },
  {
   "cell_type": "code",
   "outputs": [
    {
     "data": {
      "text/plain": "feature_9     0.111331\nfeature_1     0.111257\nfeature_4     0.111220\nfeature_5     0.111200\nfeature_0     0.111180\nfeature_6     0.111121\nfeature_11    0.111064\nfeature_7     0.111047\nfeature_10    0.110581\nfeature_2     0.000000\nfeature_3     0.000000\nfeature_8     0.000000\ndtype: float64"
     },
     "execution_count": 33,
     "metadata": {},
     "output_type": "execute_result"
    }
   ],
   "source": [
    "from sklearn.ensemble import RandomForestClassifier\n",
    "\n",
    "# Split the data into training and testing sets\n",
    "from sklearn.model_selection import train_test_split\n",
    "\n",
    "X_train, X_test, y_train, y_test = train_test_split(X, y, test_size=0.2, random_state=42)\n",
    "\n",
    "# Train a Random Forest model\n",
    "rf = RandomForestClassifier(n_estimators=100, random_state=42)\n",
    "rf.fit(X_train, y_train)\n",
    "\n",
    "# Get feature importances\n",
    "feature_importances = rf.feature_importances_\n",
    "feature_importances = pd.Series(feature_importances, index=X.columns)\n",
    "feature_importances = feature_importances.sort_values(ascending=False)\n",
    "feature_importances"
   ],
   "metadata": {
    "collapsed": false,
    "ExecuteTime": {
     "end_time": "2024-03-25T10:46:40.363909Z",
     "start_time": "2024-03-25T10:42:54.756523Z"
    }
   },
   "id": "51bae9da127785cc",
   "execution_count": 33
  },
  {
   "cell_type": "code",
   "outputs": [
    {
     "data": {
      "text/plain": "<Figure size 1000x600 with 1 Axes>",
      "image/png": "[encoded data removed]"
     },
     "metadata": {},
     "output_type": "display_data"
    }
   ],
   "source": [
    "# Plot the feature importances\n",
    "plt.figure(figsize=(10, 6))\n",
    "feature_importances.plot(kind='bar')\n",
    "plt.xlabel('Feature')\n",
    "plt.ylabel('Importance')\n",
    "plt.title('Feature Importances from Random Forest')\n",
    "plt.show()"
   ],
   "metadata": {
    "collapsed": false,
    "ExecuteTime": {
     "end_time": "2024-03-25T10:46:40.526783Z",
     "start_time": "2024-03-25T10:46:40.365468Z"
    }
   },
   "id": "dc9fd4d83bc8007b",
   "execution_count": 34
  },
  {
   "cell_type": "markdown",
   "source": [
    "The feature importances from the Random Forest model provide valuable insights into which features are most predictive of the target variable. By understanding the importance of each feature, we can focus on the most relevant data and potentially improve the performance of our predictive model. This method is particularly useful for identifying key patterns and relationships in complex datasets, helping us to extract meaningful information and make informed decisions.\n",
    "\n",
    "We can see in our case that the features 2, 3 and 8 have 0 value for the importance, this means that they are not important for the target variable and we can remove them from the dataset."
   ],
   "metadata": {
    "collapsed": false
   },
   "id": "2efad7b4fc7c1f4c"
  },
  {
   "cell_type": "markdown",
   "source": [
    "So if we would take the information from the random forest and the mutual information we can clearly see that the features 2, 3 and 8 are not important for the target variable and we can remove them from the dataset without any loss of information. "
   ],
   "metadata": {
    "collapsed": false
   },
   "id": "52154d8d61512ff0"
  },
  {
   "cell_type": "code",
   "outputs": [],
   "source": [],
   "metadata": {
    "collapsed": false
   },
   "id": "722f1195865d8770"
  }
 ],
 "metadata": {
  "kernelspec": {
   "display_name": "Python 3",
   "language": "python",
   "name": "python3"
  },
  "language_info": {
   "codemirror_mode": {
    "name": "ipython",
    "version": 2
   },
   "file_extension": ".py",
   "mimetype": "text/x-python",
   "name": "python",
   "nbconvert_exporter": "python",
   "pygments_lexer": "ipython2",
   "version": "2.7.6"
  }
 },
 "nbformat": 4,
 "nbformat_minor": 5
}
