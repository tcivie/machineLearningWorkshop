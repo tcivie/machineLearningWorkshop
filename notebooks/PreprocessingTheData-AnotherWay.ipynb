{
 "cells": [
  {
   "cell_type": "markdown",
   "source": [
    "# Preprocessing the Data - The Other Way\n",
    "\n",
    "In this intriguing assignment, the goal was to exchange our swords - or rather, our feature extraction methods - with a fellow student. This twist meant that I delved into the techniques my peer employed in their dataset, and they ventured into the methods I used in my previous assignment (for reference, see [PreprocessingTheData.ipynb](PreprocessingTheData.ipynb)). It's a fantastic opportunity to step outside our comfort zones and see how our data dances with different partners.\n",
    "\n",
    "## Feature Extraction Methods\n",
    "\n",
    "Feature extraction is like finding the magic keys that unlock the most information or the most meaningful signals from our dataset. In this section, I'm going to embark on a journey with the following magical tools:\n",
    "\n",
    "### 1. Autoencoder\n",
    "\n",
    "Autoencoders are neural networks designed to learn an efficient representation (encoding) for data, typically for the purpose of dimensionality reduction. They work by compressing the input into a lower-dimensional code and then reconstructing the output from this representation. The beauty of autoencoders lies in their ability to capture the most salient features of the data automatically.\n",
    "\n",
    "An autoencoder consists of two main parts: the encoder, which compresses the input data, and the decoder, which reconstructs the data from the compressed form. The goal is to minimize the difference between the original input and the reconstructed output, thus forcing the autoencoder to learn a compact representation of the data.\n",
    "\n",
    "### 2. Mutual Information\n",
    "\n",
    "Mutual information is a measure from information theory, describing the amount of information obtained about one random variable through observing another random variable. In feature selection, we use it to quantify the \"amount of information\" a feature gives us about the outcome. It's a powerful way to identify features that contribute most to predicting the target variable, enabling us to focus on relevant data and potentially improve model performance.\n",
    "\n",
    "### 3. PCA (Principal Component Analysis)\n",
    "\n",
    "PCA is a statistical technique that converts high-dimensional data into a lower-dimensional form (components) while retaining as much of the variance in the dataset as possible. It's like finding the best angles to view a gemstone, revealing its structure in fewer dimensions. PCA helps in reducing the dimensionality of the data, improving computational efficiency, and sometimes even improving model performance by eliminating noise and redundant features.\n",
    "\n",
    "### 4. Random Forest\n",
    "\n",
    "While primarily a machine learning model, Random Forest can also be leveraged for feature extraction. By training a Random Forest model, we can inspect the feature importances attributed by the model, giving us insights into which features it finds most predictive. This method is particularly useful for understanding feature importance in non-linear and complex datasets, helping to highlight which features are most influential in predicting the outcome.\n",
    "\n",
    "Each of these methods brings a unique perspective on how to unlock the secrets within our data. By experimenting with and understanding these techniques, we gain valuable skills and insights that can be applied across a wide range of data science challenges."
   ],
   "metadata": {
    "collapsed": false
   },
   "id": "f04dde3a743e8307"
  },
  {
   "cell_type": "markdown",
   "source": [
    "# Initial data preprocessing\n",
    "Similarly like we had in the previous notebook we would load the EP1.01.txt data as it represents in the best way the rest of the data. Also we would process the \"data\" colum from string (With \",\" delimiter) to an array of floats that represent the signals."
   ],
   "metadata": {
    "collapsed": false
   },
   "id": "efcf385ad8910294"
  },
  {
   "cell_type": "code",
   "execution_count": 1,
   "id": "initial_id",
   "metadata": {
    "collapsed": true,
    "ExecuteTime": {
     "end_time": "2024-03-25T16:48:21.172739Z",
     "start_time": "2024-03-25T16:48:21.161898Z"
    }
   },
   "outputs": [],
   "source": [
    "import pandas as pd\n",
    "import matplotlib.pyplot as plt\n",
    "from pathlib import Path"
   ]
  },
  {
   "cell_type": "code",
   "outputs": [],
   "source": [
    "data_path = Path('../data')\n",
    "file_path = data_path / 'EP1.01.txt'\n",
    "\n",
    "columns = ['id', 'event_id', 'device', 'channel', 'code', 'size', 'data']\n",
    "data = pd.read_csv(file_path, delimiter='\\t', header=None, names=columns)"
   ],
   "metadata": {
    "collapsed": false,
    "ExecuteTime": {
     "end_time": "2024-03-25T16:48:43.373884Z",
     "start_time": "2024-03-25T16:48:21.175466Z"
    }
   },
   "id": "fe67f43365b98d99",
   "execution_count": 2
  },
  {
   "cell_type": "code",
   "outputs": [
    {
     "data": {
      "text/plain": "      id  event_id device channel  code  size  \\\n0  67635     67635     EP     AF3     6   260   \n1  67636     67635     EP      F7     6   260   \n2  67637     67635     EP      F3     6   260   \n3  67638     67635     EP     FC5     6   260   \n4  67639     67635     EP      T7     6   260   \n\n                                                data  \n0  4395.384615,4382.564102,4377.435897,4387.17948...  \n1  4489.230769,4475.384615,4474.358974,4486.66666...  \n2  4538.461538,4528.717948,4524.615384,4526.15384...  \n3  4207.692307,4205.641025,4200.512820,4194.35897...  \n4  4497.948717,4498.461538,4494.871794,4497.94871...  ",
      "text/html": "<div>\n<style scoped>\n    .dataframe tbody tr th:only-of-type {\n        vertical-align: middle;\n    }\n\n    .dataframe tbody tr th {\n        vertical-align: top;\n    }\n\n    .dataframe thead th {\n        text-align: right;\n    }\n</style>\n<table border=\"1\" class=\"dataframe\">\n  <thead>\n    <tr style=\"text-align: right;\">\n      <th></th>\n      <th>id</th>\n      <th>event_id</th>\n      <th>device</th>\n      <th>channel</th>\n      <th>code</th>\n      <th>size</th>\n      <th>data</th>\n    </tr>\n  </thead>\n  <tbody>\n    <tr>\n      <th>0</th>\n      <td>67635</td>\n      <td>67635</td>\n      <td>EP</td>\n      <td>AF3</td>\n      <td>6</td>\n      <td>260</td>\n      <td>4395.384615,4382.564102,4377.435897,4387.17948...</td>\n    </tr>\n    <tr>\n      <th>1</th>\n      <td>67636</td>\n      <td>67635</td>\n      <td>EP</td>\n      <td>F7</td>\n      <td>6</td>\n      <td>260</td>\n      <td>4489.230769,4475.384615,4474.358974,4486.66666...</td>\n    </tr>\n    <tr>\n      <th>2</th>\n      <td>67637</td>\n      <td>67635</td>\n      <td>EP</td>\n      <td>F3</td>\n      <td>6</td>\n      <td>260</td>\n      <td>4538.461538,4528.717948,4524.615384,4526.15384...</td>\n    </tr>\n    <tr>\n      <th>3</th>\n      <td>67638</td>\n      <td>67635</td>\n      <td>EP</td>\n      <td>FC5</td>\n      <td>6</td>\n      <td>260</td>\n      <td>4207.692307,4205.641025,4200.512820,4194.35897...</td>\n    </tr>\n    <tr>\n      <th>4</th>\n      <td>67639</td>\n      <td>67635</td>\n      <td>EP</td>\n      <td>T7</td>\n      <td>6</td>\n      <td>260</td>\n      <td>4497.948717,4498.461538,4494.871794,4497.94871...</td>\n    </tr>\n  </tbody>\n</table>\n</div>"
     },
     "execution_count": 3,
     "metadata": {},
     "output_type": "execute_result"
    }
   ],
   "source": [
    "data.head()"
   ],
   "metadata": {
    "collapsed": false,
    "ExecuteTime": {
     "end_time": "2024-03-25T16:48:43.385960Z",
     "start_time": "2024-03-25T16:48:43.374991Z"
    }
   },
   "id": "d6672117e8425e76",
   "execution_count": 3
  },
  {
   "cell_type": "code",
   "outputs": [],
   "source": [
    "def parse_data(data: str) -> list:\n",
    "    return list(map(float, data.split(',')))"
   ],
   "metadata": {
    "collapsed": false,
    "ExecuteTime": {
     "end_time": "2024-03-25T16:48:43.390294Z",
     "start_time": "2024-03-25T16:48:43.387040Z"
    }
   },
   "id": "5ea351f5465310f",
   "execution_count": 4
  },
  {
   "cell_type": "code",
   "outputs": [],
   "source": [
    "data.loc[:, 'data'] = data['data'].apply(parse_data)"
   ],
   "metadata": {
    "collapsed": false,
    "ExecuteTime": {
     "end_time": "2024-03-25T16:49:20.599448Z",
     "start_time": "2024-03-25T16:48:43.393020Z"
    }
   },
   "id": "56d6d44b9dfcc4c7",
   "execution_count": 5
  },
  {
   "cell_type": "code",
   "outputs": [
    {
     "data": {
      "text/plain": "      id  event_id device channel  code  size  \\\n0  67635     67635     EP     AF3     6   260   \n1  67636     67635     EP      F7     6   260   \n2  67637     67635     EP      F3     6   260   \n3  67638     67635     EP     FC5     6   260   \n4  67639     67635     EP      T7     6   260   \n\n                                                data  \n0  [4395.384615, 4382.564102, 4377.435897, 4387.1...  \n1  [4489.230769, 4475.384615, 4474.358974, 4486.6...  \n2  [4538.461538, 4528.717948, 4524.615384, 4526.1...  \n3  [4207.692307, 4205.641025, 4200.51282, 4194.35...  \n4  [4497.948717, 4498.461538, 4494.871794, 4497.9...  ",
      "text/html": "<div>\n<style scoped>\n    .dataframe tbody tr th:only-of-type {\n        vertical-align: middle;\n    }\n\n    .dataframe tbody tr th {\n        vertical-align: top;\n    }\n\n    .dataframe thead th {\n        text-align: right;\n    }\n</style>\n<table border=\"1\" class=\"dataframe\">\n  <thead>\n    <tr style=\"text-align: right;\">\n      <th></th>\n      <th>id</th>\n      <th>event_id</th>\n      <th>device</th>\n      <th>channel</th>\n      <th>code</th>\n      <th>size</th>\n      <th>data</th>\n    </tr>\n  </thead>\n  <tbody>\n    <tr>\n      <th>0</th>\n      <td>67635</td>\n      <td>67635</td>\n      <td>EP</td>\n      <td>AF3</td>\n      <td>6</td>\n      <td>260</td>\n      <td>[4395.384615, 4382.564102, 4377.435897, 4387.1...</td>\n    </tr>\n    <tr>\n      <th>1</th>\n      <td>67636</td>\n      <td>67635</td>\n      <td>EP</td>\n      <td>F7</td>\n      <td>6</td>\n      <td>260</td>\n      <td>[4489.230769, 4475.384615, 4474.358974, 4486.6...</td>\n    </tr>\n    <tr>\n      <th>2</th>\n      <td>67637</td>\n      <td>67635</td>\n      <td>EP</td>\n      <td>F3</td>\n      <td>6</td>\n      <td>260</td>\n      <td>[4538.461538, 4528.717948, 4524.615384, 4526.1...</td>\n    </tr>\n    <tr>\n      <th>3</th>\n      <td>67638</td>\n      <td>67635</td>\n      <td>EP</td>\n      <td>FC5</td>\n      <td>6</td>\n      <td>260</td>\n      <td>[4207.692307, 4205.641025, 4200.51282, 4194.35...</td>\n    </tr>\n    <tr>\n      <th>4</th>\n      <td>67639</td>\n      <td>67635</td>\n      <td>EP</td>\n      <td>T7</td>\n      <td>6</td>\n      <td>260</td>\n      <td>[4497.948717, 4498.461538, 4494.871794, 4497.9...</td>\n    </tr>\n  </tbody>\n</table>\n</div>"
     },
     "execution_count": 6,
     "metadata": {},
     "output_type": "execute_result"
    }
   ],
   "source": [
    "data.head()"
   ],
   "metadata": {
    "collapsed": false,
    "ExecuteTime": {
     "end_time": "2024-03-25T16:49:20.607257Z",
     "start_time": "2024-03-25T16:49:20.600574Z"
    }
   },
   "id": "c9935037762485aa",
   "execution_count": 6
  },
  {
   "cell_type": "markdown",
   "source": [
    "# 1. Autoencoder\n",
    "We'll break down the process into the following steps\n",
    "1. Preprocess the data - Normalize the EEG signal to have zero mean and unit variance\n",
    "2. Build the autoencoder - Define Autoencoder architecture\n",
    "3. Train the Autoencoder\n",
    "4. Feature extraction"
   ],
   "metadata": {
    "collapsed": false
   },
   "id": "ce1248c78adcd796"
  },
  {
   "cell_type": "markdown",
   "source": [
    "## 1. Preprocessing the Data "
   ],
   "metadata": {
    "collapsed": false
   },
   "id": "6f8c2d1ae68e5cbf"
  },
  {
   "cell_type": "code",
   "outputs": [],
   "source": [
    "from sklearn.preprocessing import MinMaxScaler\n",
    "import numpy as np\n",
    "scaler = MinMaxScaler()"
   ],
   "metadata": {
    "collapsed": false,
    "ExecuteTime": {
     "end_time": "2024-03-25T16:49:20.684827Z",
     "start_time": "2024-03-25T16:49:20.609514Z"
    }
   },
   "id": "b755957058de5e1f",
   "execution_count": 7
  },
  {
   "cell_type": "code",
   "outputs": [],
   "source": [
    "data.loc[:, 'normalized_data'] = data['data'].apply(lambda x: scaler.fit_transform(np.array(x).reshape(-1, 1)).flatten())"
   ],
   "metadata": {
    "collapsed": false,
    "ExecuteTime": {
     "end_time": "2024-03-25T16:50:32.002187Z",
     "start_time": "2024-03-25T16:49:20.685493Z"
    }
   },
   "id": "857f47f8885b18cc",
   "execution_count": 8
  },
  {
   "cell_type": "code",
   "outputs": [
    {
     "data": {
      "text/plain": "      id  event_id device channel  code  size  \\\n0  67635     67635     EP     AF3     6   260   \n1  67636     67635     EP      F7     6   260   \n2  67637     67635     EP      F3     6   260   \n3  67638     67635     EP     FC5     6   260   \n4  67639     67635     EP      T7     6   260   \n\n                                                data  \\\n0  [4395.384615, 4382.564102, 4377.435897, 4387.1...   \n1  [4489.230769, 4475.384615, 4474.358974, 4486.6...   \n2  [4538.461538, 4528.717948, 4524.615384, 4526.1...   \n3  [4207.692307, 4205.641025, 4200.51282, 4194.35...   \n4  [4497.948717, 4498.461538, 4494.871794, 4497.9...   \n\n                                     normalized_data  \n0  [0.8441558461291976, 0.5194805129026889, 0.389...  \n1  [0.4296875010711574, 0.2187499966674693, 0.203...  \n2  [0.945205480183887, 0.684931497701271, 0.57534...  \n3  [0.3440860178980216, 0.3010752656607565, 0.193...  \n4  [0.43749997714844824, 0.44999998903124094, 0.3...  ",
      "text/html": "<div>\n<style scoped>\n    .dataframe tbody tr th:only-of-type {\n        vertical-align: middle;\n    }\n\n    .dataframe tbody tr th {\n        vertical-align: top;\n    }\n\n    .dataframe thead th {\n        text-align: right;\n    }\n</style>\n<table border=\"1\" class=\"dataframe\">\n  <thead>\n    <tr style=\"text-align: right;\">\n      <th></th>\n      <th>id</th>\n      <th>event_id</th>\n      <th>device</th>\n      <th>channel</th>\n      <th>code</th>\n      <th>size</th>\n      <th>data</th>\n      <th>normalized_data</th>\n    </tr>\n  </thead>\n  <tbody>\n    <tr>\n      <th>0</th>\n      <td>67635</td>\n      <td>67635</td>\n      <td>EP</td>\n      <td>AF3</td>\n      <td>6</td>\n      <td>260</td>\n      <td>[4395.384615, 4382.564102, 4377.435897, 4387.1...</td>\n      <td>[0.8441558461291976, 0.5194805129026889, 0.389...</td>\n    </tr>\n    <tr>\n      <th>1</th>\n      <td>67636</td>\n      <td>67635</td>\n      <td>EP</td>\n      <td>F7</td>\n      <td>6</td>\n      <td>260</td>\n      <td>[4489.230769, 4475.384615, 4474.358974, 4486.6...</td>\n      <td>[0.4296875010711574, 0.2187499966674693, 0.203...</td>\n    </tr>\n    <tr>\n      <th>2</th>\n      <td>67637</td>\n      <td>67635</td>\n      <td>EP</td>\n      <td>F3</td>\n      <td>6</td>\n      <td>260</td>\n      <td>[4538.461538, 4528.717948, 4524.615384, 4526.1...</td>\n      <td>[0.945205480183887, 0.684931497701271, 0.57534...</td>\n    </tr>\n    <tr>\n      <th>3</th>\n      <td>67638</td>\n      <td>67635</td>\n      <td>EP</td>\n      <td>FC5</td>\n      <td>6</td>\n      <td>260</td>\n      <td>[4207.692307, 4205.641025, 4200.51282, 4194.35...</td>\n      <td>[0.3440860178980216, 0.3010752656607565, 0.193...</td>\n    </tr>\n    <tr>\n      <th>4</th>\n      <td>67639</td>\n      <td>67635</td>\n      <td>EP</td>\n      <td>T7</td>\n      <td>6</td>\n      <td>260</td>\n      <td>[4497.948717, 4498.461538, 4494.871794, 4497.9...</td>\n      <td>[0.43749997714844824, 0.44999998903124094, 0.3...</td>\n    </tr>\n  </tbody>\n</table>\n</div>"
     },
     "execution_count": 9,
     "metadata": {},
     "output_type": "execute_result"
    }
   ],
   "source": [
    "data.head()"
   ],
   "metadata": {
    "collapsed": false,
    "ExecuteTime": {
     "end_time": "2024-03-25T16:50:32.013154Z",
     "start_time": "2024-03-25T16:50:32.003565Z"
    }
   },
   "id": "f25b04ab4b4791ea",
   "execution_count": 9
  },
  {
   "cell_type": "markdown",
   "source": [
    "What we essentially did here was to transform the data such that its range would be between 0 and 1. This is a common preprocessing step in machine learning, as it helps to ensure that all features contribute equally to the model and are on a similar scale. Normalizing the data can also help to improve the convergence of optimization algorithms and the overall performance of the model."
   ],
   "metadata": {
    "collapsed": false
   },
   "id": "13d1ba4c3919b8c"
  },
  {
   "cell_type": "markdown",
   "source": [
    "## 2. Building the autoencoder\n",
    "\n",
    "Building an autoencoder involves defining both an encoder and a decoder. The encoder compresses the input data into a lower-dimensional representation, and the decoder attempts to reconstruct the original input data from this compressed representation. Autoencoders are trained to minimize the reconstruction error, often using mean squared error (MSE) or a similar loss function."
   ],
   "metadata": {
    "collapsed": false
   },
   "id": "c37da7db2dd2de1f"
  },
  {
   "cell_type": "code",
   "outputs": [],
   "source": [
    "import torch\n",
    "from torch import nn"
   ],
   "metadata": {
    "collapsed": false,
    "ExecuteTime": {
     "end_time": "2024-03-25T16:50:33.089447Z",
     "start_time": "2024-03-25T16:50:32.013904Z"
    }
   },
   "id": "f711ab843e591512",
   "execution_count": 10
  },
  {
   "cell_type": "code",
   "outputs": [],
   "source": [
    "class SimpleAutoencoder(nn.Module):\n",
    "    def __init__(self, input_size):\n",
    "        super(SimpleAutoencoder, self).__init__()\n",
    "        # Encoder: Linear layer reducing dimensionality from input_size to a compressed representation\n",
    "        self.encoder = nn.Sequential(\n",
    "            nn.Linear(input_size, 128),\n",
    "            nn.ReLU(),\n",
    "            nn.Linear(128, 64),\n",
    "            nn.ReLU(),\n",
    "            nn.Linear(64, 12),  # Compressed representation\n",
    "            nn.ReLU()\n",
    "        )\n",
    "        # Decoder: Linear layer reconstructing the original input from the compressed representation\n",
    "        self.decoder = nn.Sequential(\n",
    "            nn.Linear(12, 64),\n",
    "            nn.ReLU(),\n",
    "            nn.Linear(64, 128),\n",
    "            nn.ReLU(),\n",
    "            nn.Linear(128, input_size),\n",
    "            nn.Sigmoid()\n",
    "        )\n",
    "\n",
    "    def forward(self, x):\n",
    "        x = self.encoder(x)\n",
    "        x = self.decoder(x)\n",
    "        return x"
   ],
   "metadata": {
    "collapsed": false,
    "ExecuteTime": {
     "end_time": "2024-03-25T16:50:33.098498Z",
     "start_time": "2024-03-25T16:50:33.091173Z"
    }
   },
   "id": "ec0cf9d6a259a8fe",
   "execution_count": 11
  },
  {
   "cell_type": "markdown",
   "source": [
    "Check the length of all the inputs we have in column \"size\""
   ],
   "metadata": {
    "collapsed": false
   },
   "id": "4d5d62bc2dacd289"
  },
  {
   "cell_type": "code",
   "outputs": [
    {
     "data": {
      "text/plain": "array([260, 256, 264, 261, 252, 257, 248, 272, 268, 265, 249, 253, 204,\n       320, 269, 276, 244, 273, 196, 228, 292, 224, 280, 212, 232, 240,\n       284, 136])"
     },
     "execution_count": 12,
     "metadata": {},
     "output_type": "execute_result"
    }
   ],
   "source": [
    "data['size'].unique()"
   ],
   "metadata": {
    "collapsed": false,
    "ExecuteTime": {
     "end_time": "2024-03-25T16:50:33.107743Z",
     "start_time": "2024-03-25T16:50:33.100069Z"
    }
   },
   "id": "e0e6ff748d6fd894",
   "execution_count": 12
  },
  {
   "cell_type": "markdown",
   "source": [
    "Looks like we have lots of different sizes, lets find the mean size and cut everything to it."
   ],
   "metadata": {
    "collapsed": false
   },
   "id": "67494189ef2553b1"
  },
  {
   "cell_type": "code",
   "outputs": [
    {
     "data": {
      "text/plain": "count    910476.000000\nmean        259.511901\nstd           2.319790\nmin         136.000000\n25%         260.000000\n50%         260.000000\n75%         260.000000\nmax         320.000000\nName: size, dtype: float64"
     },
     "execution_count": 13,
     "metadata": {},
     "output_type": "execute_result"
    }
   ],
   "source": [
    "data['size'].describe()"
   ],
   "metadata": {
    "collapsed": false,
    "ExecuteTime": {
     "end_time": "2024-03-25T16:50:33.124964Z",
     "start_time": "2024-03-25T16:50:33.109144Z"
    }
   },
   "id": "ebd8f4dd338df309",
   "execution_count": 13
  },
  {
   "cell_type": "code",
   "outputs": [
    {
     "data": {
      "text/plain": "count    606214.0\nmean        260.0\nstd           0.0\nmin         260.0\n25%         260.0\n50%         260.0\n75%         260.0\nmax         260.0\nName: size, dtype: float64"
     },
     "execution_count": 14,
     "metadata": {},
     "output_type": "execute_result"
    }
   ],
   "source": [
    "filtered_data = data[data['size'] == 260]\n",
    "filtered_data['size'].describe()"
   ],
   "metadata": {
    "collapsed": false,
    "ExecuteTime": {
     "end_time": "2024-03-25T16:50:33.239177Z",
     "start_time": "2024-03-25T16:50:33.125759Z"
    }
   },
   "id": "509653daa5d77875",
   "execution_count": 14
  },
  {
   "cell_type": "code",
   "outputs": [],
   "source": [
    "input_size = filtered_data['size'].unique()[0]\n",
    "autoencoder = SimpleAutoencoder(input_size)"
   ],
   "metadata": {
    "collapsed": false,
    "ExecuteTime": {
     "end_time": "2024-03-25T16:50:33.249339Z",
     "start_time": "2024-03-25T16:50:33.239844Z"
    }
   },
   "id": "484390e1bf7a623",
   "execution_count": 15
  },
  {
   "cell_type": "markdown",
   "source": [
    "## 3. Training the Autoencoder\n",
    "We'll start by creating a dataloader from the dataset we have"
   ],
   "metadata": {
    "collapsed": false
   },
   "id": "f340c052463ec704"
  },
  {
   "cell_type": "code",
   "outputs": [
    {
     "data": {
      "text/plain": "0         [0.8441558461291976, 0.5194805129026889, 0.389...\n1         [0.4296875010711574, 0.2187499966674693, 0.203...\n2         [0.945205480183887, 0.684931497701271, 0.57534...\n3         [0.3440860178980216, 0.3010752656607565, 0.193...\n4         [0.43749997714844824, 0.44999998903124094, 0.3...\n                                ...                        \n908217    [0.8699187022803727, 0.8943089535296451, 0.666...\n908218    [0.7868852493079856, 0.7540983645861274, 0.344...\n908219    [0.6814159374500832, 0.707964600700933, 0.5044...\n908220    [0.846715338856626, 0.9270073008284925, 0.7372...\n908221    [0.9819819824567873, 0.9909909824446146, 0.756...\nName: normalized_data, Length: 606214, dtype: object"
     },
     "execution_count": 16,
     "metadata": {},
     "output_type": "execute_result"
    }
   ],
   "source": [
    "filtered_data['normalized_data']"
   ],
   "metadata": {
    "collapsed": false,
    "ExecuteTime": {
     "end_time": "2024-03-25T16:50:33.254470Z",
     "start_time": "2024-03-25T16:50:33.250072Z"
    }
   },
   "id": "12fb38062fcd5adb",
   "execution_count": 16
  },
  {
   "cell_type": "code",
   "outputs": [],
   "source": [
    "from torch.utils.data import Dataset, DataLoader\n",
    "import torch"
   ],
   "metadata": {
    "collapsed": false,
    "ExecuteTime": {
     "end_time": "2024-03-25T16:50:33.256641Z",
     "start_time": "2024-03-25T16:50:33.255100Z"
    }
   },
   "id": "801027296d8f3284",
   "execution_count": 17
  },
  {
   "cell_type": "code",
   "outputs": [],
   "source": [
    "class EEGDataset(Dataset):\n",
    "    def __init__(self, dataframe: pd.DataFrame):\n",
    "        self.data = list(dataframe['normalized_data'])\n",
    "        \n",
    "    def __len__(self):\n",
    "        return len(self.data)\n",
    "    \n",
    "    def __getitem__(self, idx):\n",
    "        sample = self.data[idx]\n",
    "        sample = torch.tensor(sample, dtype=torch.float)\n",
    "        return sample\n",
    "    \n",
    "dataset = EEGDataset(filtered_data)\n",
    "dataloader = DataLoader(dataset, batch_size=64, shuffle=True)"
   ],
   "metadata": {
    "collapsed": false,
    "ExecuteTime": {
     "end_time": "2024-03-25T16:50:33.279935Z",
     "start_time": "2024-03-25T16:50:33.257248Z"
    }
   },
   "id": "b6218be7f2fcfc0",
   "execution_count": 18
  },
  {
   "cell_type": "markdown",
   "source": [
    "Now we will set our device agnostic and run some epochs on the data and train the model"
   ],
   "metadata": {
    "collapsed": false
   },
   "id": "fa3e587124f80571"
  },
  {
   "cell_type": "code",
   "outputs": [
    {
     "name": "stdout",
     "output_type": "stream",
     "text": [
      "Epoch [1/20], Loss: 0.0101\n",
      "Epoch [2/20], Loss: 0.0115\n",
      "Epoch [3/20], Loss: 0.0159\n",
      "Epoch [4/20], Loss: 0.0200\n",
      "Epoch [5/20], Loss: 0.0174\n",
      "Epoch [6/20], Loss: 0.0156\n",
      "Epoch [7/20], Loss: 0.0162\n",
      "Epoch [8/20], Loss: 0.0152\n",
      "Epoch [9/20], Loss: 0.0193\n",
      "Epoch [10/20], Loss: 0.0169\n",
      "Epoch [11/20], Loss: 0.0139\n",
      "Epoch [12/20], Loss: 0.0166\n",
      "Epoch [13/20], Loss: 0.0127\n",
      "Epoch [14/20], Loss: 0.0167\n",
      "Epoch [15/20], Loss: 0.0161\n",
      "Epoch [16/20], Loss: 0.0189\n",
      "Epoch [17/20], Loss: 0.0194\n",
      "Epoch [18/20], Loss: 0.0164\n",
      "Epoch [19/20], Loss: 0.0166\n",
      "Epoch [20/20], Loss: 0.0193\n"
     ]
    }
   ],
   "source": [
    "device = 'cpu'\n",
    "# Check if device is mps or Cuda\n",
    "if torch.cuda.is_available():\n",
    "    device = 'cuda'\n",
    "elif torch.backends.mps.is_available():\n",
    "    device = 'mps'\n",
    "\n",
    "autoencoder.to(device)\n",
    "criterion = nn.MSELoss()\n",
    "optimizer = torch.optim.Adam(autoencoder.parameters(), lr=0.001)\n",
    "\n",
    "num_epochs = 20\n",
    "loss = None\n",
    "for epoch in range(num_epochs):\n",
    "    for data in dataloader:\n",
    "        data = data.to(device)\n",
    "        reconstructed = autoencoder(data)\n",
    "        loss = criterion(reconstructed, data)\n",
    "        \n",
    "        optimizer.zero_grad()\n",
    "        loss.backward()\n",
    "        optimizer.step()\n",
    "    print(f'Epoch [{epoch+1}/{num_epochs}], Loss: {loss.item():.4f}')"
   ],
   "metadata": {
    "collapsed": false,
    "ExecuteTime": {
     "end_time": "2024-03-25T17:00:47.415428Z",
     "start_time": "2024-03-25T16:50:33.280710Z"
    }
   },
   "id": "e073d0afcc039a0f",
   "execution_count": 19
  },
  {
   "cell_type": "markdown",
   "source": [
    "## 4. Extracting Features"
   ],
   "metadata": {
    "collapsed": false
   },
   "id": "d09016c4df10bcf"
  },
  {
   "cell_type": "code",
   "outputs": [],
   "source": [
    "features = []\n",
    "for data in DataLoader(dataset, batch_size=64, shuffle=False):\n",
    "    data = data.to(device)\n",
    "    feature = autoencoder.encoder(data)\n",
    "    features.append(feature.cpu().detach().numpy())\n",
    "\n",
    "# Concatenate all features to get the full feature matrix\n",
    "features = np.concatenate(features, axis=0)"
   ],
   "metadata": {
    "collapsed": false,
    "ExecuteTime": {
     "end_time": "2024-03-25T17:00:53.326855Z",
     "start_time": "2024-03-25T17:00:47.416963Z"
    }
   },
   "id": "ddcafca08f643c45",
   "execution_count": 20
  },
  {
   "cell_type": "code",
   "outputs": [
    {
     "data": {
      "text/plain": "array([[0.45526192, 1.1554267 , 1.0616308 , ..., 0.7489581 , 0.        ,\n        0.7328858 ],\n       [0.7993545 , 1.2524049 , 0.8884668 , ..., 0.97911376, 0.        ,\n        0.78482246],\n       [0.5114541 , 1.1949203 , 1.1860669 , ..., 0.7675331 , 0.        ,\n        0.9510829 ],\n       ...,\n       [0.8113965 , 1.2234733 , 0.6693291 , ..., 0.6199871 , 0.        ,\n        0.843009  ],\n       [0.49160582, 1.3222363 , 1.0109234 , ..., 0.8018951 , 0.        ,\n        0.69037956],\n       [0.5717048 , 1.3029099 , 0.84159404, ..., 0.6958855 , 0.        ,\n        0.65621287]], dtype=float32)"
     },
     "execution_count": 21,
     "metadata": {},
     "output_type": "execute_result"
    }
   ],
   "source": [
    "features"
   ],
   "metadata": {
    "collapsed": false,
    "ExecuteTime": {
     "end_time": "2024-03-25T17:00:53.330790Z",
     "start_time": "2024-03-25T17:00:53.327878Z"
    }
   },
   "id": "b9e1e19275c2d387",
   "execution_count": 21
  },
  {
   "cell_type": "code",
   "outputs": [],
   "source": [
    "import pandas as pd\n",
    "features_df = pd.DataFrame(features)\n",
    "\n",
    "features_df.index = filtered_data.index\n",
    "\n",
    "features_df = features_df.add_prefix('feature_')\n",
    "\n",
    "enhanced_data = pd.concat([filtered_data, features_df], axis=1)"
   ],
   "metadata": {
    "collapsed": false,
    "ExecuteTime": {
     "end_time": "2024-03-25T17:00:53.507031Z",
     "start_time": "2024-03-25T17:00:53.334146Z"
    }
   },
   "id": "eea23d33bfb5438a",
   "execution_count": 22
  },
  {
   "cell_type": "code",
   "outputs": [
    {
     "data": {
      "text/plain": "      id  event_id device channel  code  size  \\\n0  67635     67635     EP     AF3     6   260   \n1  67636     67635     EP      F7     6   260   \n2  67637     67635     EP      F3     6   260   \n3  67638     67635     EP     FC5     6   260   \n4  67639     67635     EP      T7     6   260   \n\n                                                data  \\\n0  [4395.384615, 4382.564102, 4377.435897, 4387.1...   \n1  [4489.230769, 4475.384615, 4474.358974, 4486.6...   \n2  [4538.461538, 4528.717948, 4524.615384, 4526.1...   \n3  [4207.692307, 4205.641025, 4200.51282, 4194.35...   \n4  [4497.948717, 4498.461538, 4494.871794, 4497.9...   \n\n                                     normalized_data  feature_0  feature_1  \\\n0  [0.8441558461291976, 0.5194805129026889, 0.389...   0.455262   1.155427   \n1  [0.4296875010711574, 0.2187499966674693, 0.203...   0.799354   1.252405   \n2  [0.945205480183887, 0.684931497701271, 0.57534...   0.511454   1.194920   \n3  [0.3440860178980216, 0.3010752656607565, 0.193...   0.594311   0.957949   \n4  [0.43749997714844824, 0.44999998903124094, 0.3...   0.465870   1.169497   \n\n   feature_2  feature_3  feature_4  feature_5  feature_6  feature_7  \\\n0   1.061631   0.805608        0.0   0.943690   0.701675        0.0   \n1   0.888467   0.278260        0.0   0.906408   0.536715        0.0   \n2   1.186067   0.834844        0.0   0.846082   0.696207        0.0   \n3   0.775988   0.638800        0.0   0.647001   0.817181        0.0   \n4   0.750571   0.542662        0.0   0.780825   0.753747        0.0   \n\n   feature_8  feature_9  feature_10  feature_11  \n0   0.910428   0.748958         0.0    0.732886  \n1   0.715140   0.979114         0.0    0.784822  \n2   0.910888   0.767533         0.0    0.951083  \n3   0.751255   0.729855         0.0    0.567211  \n4   0.663317   0.539796         0.0    0.938386  ",
      "text/html": "<div>\n<style scoped>\n    .dataframe tbody tr th:only-of-type {\n        vertical-align: middle;\n    }\n\n    .dataframe tbody tr th {\n        vertical-align: top;\n    }\n\n    .dataframe thead th {\n        text-align: right;\n    }\n</style>\n<table border=\"1\" class=\"dataframe\">\n  <thead>\n    <tr style=\"text-align: right;\">\n      <th></th>\n      <th>id</th>\n      <th>event_id</th>\n      <th>device</th>\n      <th>channel</th>\n      <th>code</th>\n      <th>size</th>\n      <th>data</th>\n      <th>normalized_data</th>\n      <th>feature_0</th>\n      <th>feature_1</th>\n      <th>feature_2</th>\n      <th>feature_3</th>\n      <th>feature_4</th>\n      <th>feature_5</th>\n      <th>feature_6</th>\n      <th>feature_7</th>\n      <th>feature_8</th>\n      <th>feature_9</th>\n      <th>feature_10</th>\n      <th>feature_11</th>\n    </tr>\n  </thead>\n  <tbody>\n    <tr>\n      <th>0</th>\n      <td>67635</td>\n      <td>67635</td>\n      <td>EP</td>\n      <td>AF3</td>\n      <td>6</td>\n      <td>260</td>\n      <td>[4395.384615, 4382.564102, 4377.435897, 4387.1...</td>\n      <td>[0.8441558461291976, 0.5194805129026889, 0.389...</td>\n      <td>0.455262</td>\n      <td>1.155427</td>\n      <td>1.061631</td>\n      <td>0.805608</td>\n      <td>0.0</td>\n      <td>0.943690</td>\n      <td>0.701675</td>\n      <td>0.0</td>\n      <td>0.910428</td>\n      <td>0.748958</td>\n      <td>0.0</td>\n      <td>0.732886</td>\n    </tr>\n    <tr>\n      <th>1</th>\n      <td>67636</td>\n      <td>67635</td>\n      <td>EP</td>\n      <td>F7</td>\n      <td>6</td>\n      <td>260</td>\n      <td>[4489.230769, 4475.384615, 4474.358974, 4486.6...</td>\n      <td>[0.4296875010711574, 0.2187499966674693, 0.203...</td>\n      <td>0.799354</td>\n      <td>1.252405</td>\n      <td>0.888467</td>\n      <td>0.278260</td>\n      <td>0.0</td>\n      <td>0.906408</td>\n      <td>0.536715</td>\n      <td>0.0</td>\n      <td>0.715140</td>\n      <td>0.979114</td>\n      <td>0.0</td>\n      <td>0.784822</td>\n    </tr>\n    <tr>\n      <th>2</th>\n      <td>67637</td>\n      <td>67635</td>\n      <td>EP</td>\n      <td>F3</td>\n      <td>6</td>\n      <td>260</td>\n      <td>[4538.461538, 4528.717948, 4524.615384, 4526.1...</td>\n      <td>[0.945205480183887, 0.684931497701271, 0.57534...</td>\n      <td>0.511454</td>\n      <td>1.194920</td>\n      <td>1.186067</td>\n      <td>0.834844</td>\n      <td>0.0</td>\n      <td>0.846082</td>\n      <td>0.696207</td>\n      <td>0.0</td>\n      <td>0.910888</td>\n      <td>0.767533</td>\n      <td>0.0</td>\n      <td>0.951083</td>\n    </tr>\n    <tr>\n      <th>3</th>\n      <td>67638</td>\n      <td>67635</td>\n      <td>EP</td>\n      <td>FC5</td>\n      <td>6</td>\n      <td>260</td>\n      <td>[4207.692307, 4205.641025, 4200.51282, 4194.35...</td>\n      <td>[0.3440860178980216, 0.3010752656607565, 0.193...</td>\n      <td>0.594311</td>\n      <td>0.957949</td>\n      <td>0.775988</td>\n      <td>0.638800</td>\n      <td>0.0</td>\n      <td>0.647001</td>\n      <td>0.817181</td>\n      <td>0.0</td>\n      <td>0.751255</td>\n      <td>0.729855</td>\n      <td>0.0</td>\n      <td>0.567211</td>\n    </tr>\n    <tr>\n      <th>4</th>\n      <td>67639</td>\n      <td>67635</td>\n      <td>EP</td>\n      <td>T7</td>\n      <td>6</td>\n      <td>260</td>\n      <td>[4497.948717, 4498.461538, 4494.871794, 4497.9...</td>\n      <td>[0.43749997714844824, 0.44999998903124094, 0.3...</td>\n      <td>0.465870</td>\n      <td>1.169497</td>\n      <td>0.750571</td>\n      <td>0.542662</td>\n      <td>0.0</td>\n      <td>0.780825</td>\n      <td>0.753747</td>\n      <td>0.0</td>\n      <td>0.663317</td>\n      <td>0.539796</td>\n      <td>0.0</td>\n      <td>0.938386</td>\n    </tr>\n  </tbody>\n</table>\n</div>"
     },
     "execution_count": 23,
     "metadata": {},
     "output_type": "execute_result"
    }
   ],
   "source": [
    "enhanced_data.head()"
   ],
   "metadata": {
    "collapsed": false,
    "ExecuteTime": {
     "end_time": "2024-03-25T17:00:53.518782Z",
     "start_time": "2024-03-25T17:00:53.507830Z"
    }
   },
   "id": "6cd95a41f706cc77",
   "execution_count": 23
  },
  {
   "cell_type": "markdown",
   "source": [
    "# 2. Mutual Information\n",
    "In this part we will check which of the features (That we selected from the autoencoder) are the most important for the target variable."
   ],
   "metadata": {
    "collapsed": false
   },
   "id": "735d551aa749429c"
  },
  {
   "cell_type": "code",
   "outputs": [
    {
     "data": {
      "text/plain": "feature_4     0.001601\nfeature_1     0.001462\nfeature_11    0.000741\nfeature_0     0.000000\nfeature_2     0.000000\nfeature_3     0.000000\nfeature_5     0.000000\nfeature_6     0.000000\nfeature_7     0.000000\nfeature_8     0.000000\nfeature_9     0.000000\nfeature_10    0.000000\ndtype: float64"
     },
     "execution_count": 24,
     "metadata": {},
     "output_type": "execute_result"
    }
   ],
   "source": [
    "from sklearn.feature_selection import mutual_info_regression\n",
    "\n",
    "# Selecting the features and target variable\n",
    "X = enhanced_data.drop(columns=['id', 'event_id', 'device', 'channel', 'code', 'size', 'data', 'normalized_data'])\n",
    "y = enhanced_data['code']\n",
    "\n",
    "# Calculating the mutual information\n",
    "mi = mutual_info_regression(X, y)\n",
    "mi = pd.Series(mi, index=X.columns)\n",
    "mi = mi.sort_values(ascending=False)\n",
    "mi"
   ],
   "metadata": {
    "collapsed": false,
    "ExecuteTime": {
     "end_time": "2024-03-25T17:01:24.652982Z",
     "start_time": "2024-03-25T17:00:53.519417Z"
    }
   },
   "id": "2d6466a3248ad5ca",
   "execution_count": 24
  },
  {
   "cell_type": "markdown",
   "source": [
    "This is a powerful insight, as it allows us to focus on the most relevant features when building our predictive model. By understanding which features are most informative, we can potentially improve the performance of our model and gain deeper insights into the underlying patterns in the data."
   ],
   "metadata": {
    "collapsed": false
   },
   "id": "3dad78a5e9c9d979"
  },
  {
   "cell_type": "markdown",
   "source": [
    "# 3. PCA (Principal Component Analysis)\n",
    "In this part we will use PCA to reduce the dimensionality of the data and extract the most important components. This will help us to visualize the data in a lower-dimensional space and identify the key patterns and relationships within the data."
   ],
   "metadata": {
    "collapsed": false
   },
   "id": "fa17bf8dbb634160"
  },
  {
   "cell_type": "code",
   "outputs": [
    {
     "data": {
      "text/plain": "      id  event_id device channel  code  size  \\\n0  67635     67635     EP     AF3     6   260   \n1  67636     67635     EP      F7     6   260   \n2  67637     67635     EP      F3     6   260   \n3  67638     67635     EP     FC5     6   260   \n4  67639     67635     EP      T7     6   260   \n\n                                                data  \\\n0  [4395.384615, 4382.564102, 4377.435897, 4387.1...   \n1  [4489.230769, 4475.384615, 4474.358974, 4486.6...   \n2  [4538.461538, 4528.717948, 4524.615384, 4526.1...   \n3  [4207.692307, 4205.641025, 4200.51282, 4194.35...   \n4  [4497.948717, 4498.461538, 4494.871794, 4497.9...   \n\n                                     normalized_data  feature_0  feature_1  \\\n0  [0.8441558461291976, 0.5194805129026889, 0.389...   0.455262   1.155427   \n1  [0.4296875010711574, 0.2187499966674693, 0.203...   0.799354   1.252405   \n2  [0.945205480183887, 0.684931497701271, 0.57534...   0.511454   1.194920   \n3  [0.3440860178980216, 0.3010752656607565, 0.193...   0.594311   0.957949   \n4  [0.43749997714844824, 0.44999998903124094, 0.3...   0.465870   1.169497   \n\n   ...      PCA2      PCA3      PCA4      PCA5      PCA6      PCA7      PCA8  \\\n0  ... -0.186176 -0.252067 -0.103699 -0.261278 -0.054889  0.132967 -0.022343   \n1  ... -0.233934  0.083719 -0.069251 -0.099269 -0.256856 -0.203068 -0.008230   \n2  ... -0.375242 -0.080646 -0.187795 -0.230869 -0.056041  0.222836 -0.012844   \n3  ...  0.162741 -0.107652  0.099416 -0.067742  0.021198  0.189811  0.056857   \n4  ...  0.029363 -0.010490 -0.096604  0.136420 -0.258312  0.056946  0.133549   \n\n       PCA9     PCA10         PCA11  \n0  0.044802  0.003463 -1.931473e-09  \n1 -0.073466 -0.001332 -3.344383e-10  \n2  0.107285  0.006070  1.811380e-09  \n3  0.096952  0.000021 -6.628804e-10  \n4  0.110581  0.001178  1.495177e-06  \n\n[5 rows x 31 columns]",
      "text/html": "<div>\n<style scoped>\n    .dataframe tbody tr th:only-of-type {\n        vertical-align: middle;\n    }\n\n    .dataframe tbody tr th {\n        vertical-align: top;\n    }\n\n    .dataframe thead th {\n        text-align: right;\n    }\n</style>\n<table border=\"1\" class=\"dataframe\">\n  <thead>\n    <tr style=\"text-align: right;\">\n      <th></th>\n      <th>id</th>\n      <th>event_id</th>\n      <th>device</th>\n      <th>channel</th>\n      <th>code</th>\n      <th>size</th>\n      <th>data</th>\n      <th>normalized_data</th>\n      <th>feature_0</th>\n      <th>feature_1</th>\n      <th>...</th>\n      <th>PCA2</th>\n      <th>PCA3</th>\n      <th>PCA4</th>\n      <th>PCA5</th>\n      <th>PCA6</th>\n      <th>PCA7</th>\n      <th>PCA8</th>\n      <th>PCA9</th>\n      <th>PCA10</th>\n      <th>PCA11</th>\n    </tr>\n  </thead>\n  <tbody>\n    <tr>\n      <th>0</th>\n      <td>67635</td>\n      <td>67635</td>\n      <td>EP</td>\n      <td>AF3</td>\n      <td>6</td>\n      <td>260</td>\n      <td>[4395.384615, 4382.564102, 4377.435897, 4387.1...</td>\n      <td>[0.8441558461291976, 0.5194805129026889, 0.389...</td>\n      <td>0.455262</td>\n      <td>1.155427</td>\n      <td>...</td>\n      <td>-0.186176</td>\n      <td>-0.252067</td>\n      <td>-0.103699</td>\n      <td>-0.261278</td>\n      <td>-0.054889</td>\n      <td>0.132967</td>\n      <td>-0.022343</td>\n      <td>0.044802</td>\n      <td>0.003463</td>\n      <td>-1.931473e-09</td>\n    </tr>\n    <tr>\n      <th>1</th>\n      <td>67636</td>\n      <td>67635</td>\n      <td>EP</td>\n      <td>F7</td>\n      <td>6</td>\n      <td>260</td>\n      <td>[4489.230769, 4475.384615, 4474.358974, 4486.6...</td>\n      <td>[0.4296875010711574, 0.2187499966674693, 0.203...</td>\n      <td>0.799354</td>\n      <td>1.252405</td>\n      <td>...</td>\n      <td>-0.233934</td>\n      <td>0.083719</td>\n      <td>-0.069251</td>\n      <td>-0.099269</td>\n      <td>-0.256856</td>\n      <td>-0.203068</td>\n      <td>-0.008230</td>\n      <td>-0.073466</td>\n      <td>-0.001332</td>\n      <td>-3.344383e-10</td>\n    </tr>\n    <tr>\n      <th>2</th>\n      <td>67637</td>\n      <td>67635</td>\n      <td>EP</td>\n      <td>F3</td>\n      <td>6</td>\n      <td>260</td>\n      <td>[4538.461538, 4528.717948, 4524.615384, 4526.1...</td>\n      <td>[0.945205480183887, 0.684931497701271, 0.57534...</td>\n      <td>0.511454</td>\n      <td>1.194920</td>\n      <td>...</td>\n      <td>-0.375242</td>\n      <td>-0.080646</td>\n      <td>-0.187795</td>\n      <td>-0.230869</td>\n      <td>-0.056041</td>\n      <td>0.222836</td>\n      <td>-0.012844</td>\n      <td>0.107285</td>\n      <td>0.006070</td>\n      <td>1.811380e-09</td>\n    </tr>\n    <tr>\n      <th>3</th>\n      <td>67638</td>\n      <td>67635</td>\n      <td>EP</td>\n      <td>FC5</td>\n      <td>6</td>\n      <td>260</td>\n      <td>[4207.692307, 4205.641025, 4200.51282, 4194.35...</td>\n      <td>[0.3440860178980216, 0.3010752656607565, 0.193...</td>\n      <td>0.594311</td>\n      <td>0.957949</td>\n      <td>...</td>\n      <td>0.162741</td>\n      <td>-0.107652</td>\n      <td>0.099416</td>\n      <td>-0.067742</td>\n      <td>0.021198</td>\n      <td>0.189811</td>\n      <td>0.056857</td>\n      <td>0.096952</td>\n      <td>0.000021</td>\n      <td>-6.628804e-10</td>\n    </tr>\n    <tr>\n      <th>4</th>\n      <td>67639</td>\n      <td>67635</td>\n      <td>EP</td>\n      <td>T7</td>\n      <td>6</td>\n      <td>260</td>\n      <td>[4497.948717, 4498.461538, 4494.871794, 4497.9...</td>\n      <td>[0.43749997714844824, 0.44999998903124094, 0.3...</td>\n      <td>0.465870</td>\n      <td>1.169497</td>\n      <td>...</td>\n      <td>0.029363</td>\n      <td>-0.010490</td>\n      <td>-0.096604</td>\n      <td>0.136420</td>\n      <td>-0.258312</td>\n      <td>0.056946</td>\n      <td>0.133549</td>\n      <td>0.110581</td>\n      <td>0.001178</td>\n      <td>1.495177e-06</td>\n    </tr>\n  </tbody>\n</table>\n<p>5 rows × 31 columns</p>\n</div>"
     },
     "execution_count": 25,
     "metadata": {},
     "output_type": "execute_result"
    }
   ],
   "source": [
    "from sklearn.decomposition import PCA\n",
    "\n",
    "# Fit PCA to the features\n",
    "pca = PCA(n_components=11) # We have 0-9 numbers shown to subject and (-1) for random signal (Total 11)\n",
    "pca_features = pca.fit_transform(X)\n",
    "\n",
    "# Create a DataFrame with the PCA features\n",
    "pca_df = pd.DataFrame(data=pca_features, columns=['PCA1', 'PCA2', 'PCA3', 'PCA4', 'PCA5', 'PCA6', 'PCA7', 'PCA8', 'PCA9', 'PCA10', 'PCA11'])\n",
    "pca_df.index = X.index\n",
    "\n",
    "# Concatenate the PCA features with the original data\n",
    "pca_data = pd.concat([enhanced_data, pca_df], axis=1)\n",
    "pca_data.head()"
   ],
   "metadata": {
    "collapsed": false,
    "ExecuteTime": {
     "end_time": "2024-03-25T17:01:24.894580Z",
     "start_time": "2024-03-25T17:01:24.654208Z"
    }
   },
   "id": "66652959c3f897a8",
   "execution_count": 25
  },
  {
   "cell_type": "code",
   "outputs": [
    {
     "data": {
      "text/plain": "<Figure size 1000x600 with 1 Axes>",
      "image/png": "[encoded data removed]"
     },
     "metadata": {},
     "output_type": "display_data"
    }
   ],
   "source": [
    "# Plot the explained variance ratio\n",
    "plt.figure(figsize=(10, 6))\n",
    "plt.plot(np.cumsum(pca.explained_variance_ratio_))\n",
    "plt.xlabel('Number of Components')\n",
    "plt.ylabel('Cumulative Explained Variance')\n",
    "plt.title('Explained Variance Ratio by Number of Components')\n",
    "plt.show()"
   ],
   "metadata": {
    "collapsed": false,
    "ExecuteTime": {
     "end_time": "2024-03-25T17:01:25.254254Z",
     "start_time": "2024-03-25T17:01:24.911515Z"
    }
   },
   "id": "9229559e4fced803",
   "execution_count": 26
  },
  {
   "cell_type": "markdown",
   "source": [
    "We see that the first 11 components explain almost 100% of the variance in the data. This means that we can effectively represent the data in a lower-dimensional space while retaining most of the information. By using PCA, we can reduce the dimensionality of the data, improve computational efficiency, and potentially enhance the performance of our predictive model."
   ],
   "metadata": {
    "collapsed": false
   },
   "id": "e823eb399cc9743b"
  },
  {
   "cell_type": "markdown",
   "source": [
    "# 4. Random Forest\n",
    "The final feature extraction method we'll explore is Random Forest. We'll train a Random Forest model on the data and examine the feature importances attributed by the model. This will help us to identify which features are most influential in predicting the target variable and gain insights into the underlying patterns in the data."
   ],
   "metadata": {
    "collapsed": false
   },
   "id": "d6d7caa1fb947584"
  },
  {
   "cell_type": "code",
   "outputs": [
    {
     "data": {
      "text/plain": "feature_0     0.111297\nfeature_8     0.111293\nfeature_9     0.111231\nfeature_6     0.111178\nfeature_11    0.111143\nfeature_5     0.111132\nfeature_1     0.111069\nfeature_3     0.110939\nfeature_2     0.110714\nfeature_10    0.000003\nfeature_4     0.000000\nfeature_7     0.000000\ndtype: float64"
     },
     "execution_count": 27,
     "metadata": {},
     "output_type": "execute_result"
    }
   ],
   "source": [
    "from sklearn.ensemble import RandomForestClassifier\n",
    "\n",
    "# Split the data into training and testing sets\n",
    "from sklearn.model_selection import train_test_split\n",
    "\n",
    "X_train, X_test, y_train, y_test = train_test_split(X, y, test_size=0.2, random_state=42)\n",
    "\n",
    "# Train a Random Forest model\n",
    "rf = RandomForestClassifier(n_estimators=100, random_state=42)\n",
    "rf.fit(X_train, y_train)\n",
    "\n",
    "# Get feature importances\n",
    "feature_importances = rf.feature_importances_\n",
    "feature_importances = pd.Series(feature_importances, index=X.columns)\n",
    "feature_importances = feature_importances.sort_values(ascending=False)\n",
    "feature_importances"
   ],
   "metadata": {
    "collapsed": false,
    "ExecuteTime": {
     "end_time": "2024-03-25T17:05:09.732209Z",
     "start_time": "2024-03-25T17:01:25.256506Z"
    }
   },
   "id": "51bae9da127785cc",
   "execution_count": 27
  },
  {
   "cell_type": "code",
   "outputs": [
    {
     "data": {
      "text/plain": "<Figure size 1000x600 with 1 Axes>",
      "image/png": "[encoded data removed]"
     },
     "metadata": {},
     "output_type": "display_data"
    }
   ],
   "source": [
    "# Plot the feature importances\n",
    "plt.figure(figsize=(10, 6))\n",
    "feature_importances.plot(kind='bar')\n",
    "plt.xlabel('Feature')\n",
    "plt.ylabel('Importance')\n",
    "plt.title('Feature Importances from Random Forest')\n",
    "plt.show()"
   ],
   "metadata": {
    "collapsed": false,
    "ExecuteTime": {
     "end_time": "2024-03-25T17:05:09.908785Z",
     "start_time": "2024-03-25T17:05:09.733452Z"
    }
   },
   "id": "dc9fd4d83bc8007b",
   "execution_count": 28
  },
  {
   "cell_type": "markdown",
   "source": [
    "The feature importances from the Random Forest model provide valuable insights into which features are most predictive of the target variable. By understanding the importance of each feature, we can focus on the most relevant data and potentially improve the performance of our predictive model. This method is particularly useful for identifying key patterns and relationships in complex datasets, helping us to extract meaningful information and make informed decisions.\n",
    "\n",
    "We can see in our case that the features 2, 3 and 8 have 0 value for the importance, this means that they are not important for the target variable and we can remove them from the dataset."
   ],
   "metadata": {
    "collapsed": false
   },
   "id": "2efad7b4fc7c1f4c"
  },
  {
   "cell_type": "markdown",
   "source": [
    "So if we would take the information from the random forest and the mutual information we can clearly see that the features 2, 3 and 8 are not important for the target variable and we can remove them from the dataset without any loss of information. "
   ],
   "metadata": {
    "collapsed": false
   },
   "id": "52154d8d61512ff0"
  },
  {
   "cell_type": "code",
   "outputs": [],
   "source": [],
   "metadata": {
    "collapsed": false,
    "ExecuteTime": {
     "end_time": "2024-03-25T17:05:09.911330Z",
     "start_time": "2024-03-25T17:05:09.909574Z"
    }
   },
   "id": "722f1195865d8770",
   "execution_count": 28
  }
 ],
 "metadata": {
  "kernelspec": {
   "display_name": "Python 3",
   "language": "python",
   "name": "python3"
  },
  "language_info": {
   "codemirror_mode": {
    "name": "ipython",
    "version": 2
   },
   "file_extension": ".py",
   "mimetype": "text/x-python",
   "name": "python",
   "nbconvert_exporter": "python",
   "pygments_lexer": "ipython2",
   "version": "2.7.6"
  }
 },
 "nbformat": 4,
 "nbformat_minor": 5
}
